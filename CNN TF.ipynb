{
 "cells": [
  {
   "cell_type": "code",
   "execution_count": 1,
   "metadata": {},
   "outputs": [],
   "source": [
    "import tensorflow as tf"
   ]
  },
  {
   "cell_type": "code",
   "execution_count": 2,
   "metadata": {},
   "outputs": [],
   "source": [
    "from PIL.Image import open\n",
    "from numpy import array, float32, reshape"
   ]
  },
  {
   "cell_type": "code",
   "execution_count": 3,
   "metadata": {},
   "outputs": [],
   "source": [
    "from watermarking import training"
   ]
  },
  {
   "cell_type": "code",
   "execution_count": 4,
   "metadata": {},
   "outputs": [],
   "source": [
    "from re import sub, search\n",
    "from os import listdir\n",
    "from numpy import expand_dims, uint8, mean, asarray, flip\n",
    "from watermarking import embedding, process, extraction, cnn"
   ]
  },
  {
   "cell_type": "markdown",
   "metadata": {},
   "source": [
    "<h3>Change Watermark to One-Hot</h3>"
   ]
  },
  {
   "cell_type": "code",
   "execution_count": 5,
   "metadata": {},
   "outputs": [],
   "source": [
    "def WM_to_one_hot(wm):\n",
    "    one_hot = []\n",
    "    for row in wm:\n",
    "        new_row = []\n",
    "        for _px in row:\n",
    "            new_row.append(\n",
    "                [0, 1] if _px == 0 else [1, 0]\n",
    "            )\n",
    "        one_hot.append(new_row)\n",
    "    return array(one_hot)\n",
    "\n",
    "def WMs_to_one_hot(wms):\n",
    "    one_hot_wms = []\n",
    "    for wm in wms:\n",
    "        one_hot_wms.append(WM_to_one_hot(wm))\n",
    "    return array(one_hot_wms)"
   ]
  },
  {
   "cell_type": "code",
   "execution_count": 6,
   "metadata": {
    "scrolled": true
   },
   "outputs": [
    {
     "name": "stdout",
     "output_type": "stream",
     "text": [
      "initializing\n",
      "enc   0  ->  64\n",
      "dec   0  ->  64\n"
     ]
    }
   ],
   "source": [
    "train = training.Training()"
   ]
  },
  {
   "cell_type": "code",
   "execution_count": 7,
   "metadata": {},
   "outputs": [],
   "source": [
    "attacked_watermarks = WMs_to_one_hot(\n",
    "    train.normalize_watermark(\n",
    "        train.apply_transformations(\n",
    "            open(\"Watermark.tiff\"), iswatermark=True\n",
    "        )\n",
    "    )\n",
    ")\n"
   ]
  },
  {
   "cell_type": "code",
   "execution_count": 8,
   "metadata": {},
   "outputs": [],
   "source": [
    "test = train.normalize_watermark(\n",
    "    train.apply_transformations(\n",
    "        open(\"Watermark.tiff\"), iswatermark=True\n",
    "    )\n",
    ")"
   ]
  },
  {
   "cell_type": "code",
   "execution_count": 9,
   "metadata": {},
   "outputs": [],
   "source": [
    "watermark = open(\"Watermark.tiff\")"
   ]
  },
  {
   "cell_type": "markdown",
   "metadata": {},
   "source": [
    "<h3>Load Training Images</h3>"
   ]
  },
  {
   "cell_type": "code",
   "execution_count": 10,
   "metadata": {},
   "outputs": [],
   "source": [
    "def create_train_label(wms, total_img):\n",
    "    train_label = []\n",
    "    attack_i = 0\n",
    "    for i in range(total_img):\n",
    "        train_label.append(wms[0])\n",
    "        attack_i += 1\n",
    "        if attack_i == 24:\n",
    "            attack_i = 0\n",
    "    return array(train_label)"
   ]
  },
  {
   "cell_type": "code",
   "execution_count": 11,
   "metadata": {
    "scrolled": true
   },
   "outputs": [
    {
     "name": "stdout",
     "output_type": "stream",
     "text": [
      "total:  24\n",
      "total:  24\n",
      "total:  24\n",
      "total:  24\n",
      "total:  24\n",
      "total:  24\n",
      "total:  24\n",
      "total:  24\n",
      "total:  24\n",
      "total:  24\n",
      "total:  24\n",
      "total:  24\n",
      "total:  24\n",
      "total:  24\n",
      "total:  24\n",
      "total:  24\n",
      "total:  24\n",
      "total:  24\n",
      "total:  24\n",
      "total:  24\n",
      "total:  24\n",
      "total:  24\n",
      "total:  24\n",
      "total:  24\n",
      "total:  24\n",
      "total:  24\n",
      "total:  24\n",
      "total:  24\n",
      "total:  24\n",
      "total:  24\n",
      "total:  24\n",
      "total:  24\n",
      "total:  24\n",
      "total:  24\n",
      "total:  24\n",
      "total:  24\n",
      "total:  24\n",
      "total:  24\n",
      "total:  24\n",
      "total:  24\n"
     ]
    }
   ],
   "source": [
    "training_images_filename = listdir(train.PRE_TRAINING_PATH)\n",
    "train_imgs = []\n",
    "for filename in training_images_filename:\n",
    "    image = open(train.PRE_TRAINING_PATH + \"/\" + filename)\n",
    "    full_path = train.TRAINING_PATH + \"/\" + sub(\n",
    "       search(\".tif+$\", filename).group(), \"\", filename\n",
    "    )\n",
    "    embedding.Embedding().embed_watermark(\n",
    "        process.Process.pil_to_open_cv(\n",
    "            image\n",
    "        ),\n",
    "        array(watermark, dtype=uint8),\n",
    "        full_path\n",
    "    )\n",
    "    image = open(full_path + \".tif\")\n",
    "    train_imgs.extend(\n",
    "        expand_dims(\n",
    "            train.normalize_embedding_maps(\n",
    "                train.get_embedding_maps(                   \n",
    "                    train.apply_transformations(image),\n",
    "                    extraction.Extraction().extract_key_from_pil_image(image)\n",
    "                )\n",
    "            ), axis=3\n",
    "        )\n",
    "    )"
   ]
  },
  {
   "cell_type": "code",
   "execution_count": 12,
   "metadata": {},
   "outputs": [],
   "source": [
    "train_imgs = array(train_imgs)"
   ]
  },
  {
   "cell_type": "code",
   "execution_count": 13,
   "metadata": {},
   "outputs": [
    {
     "data": {
      "text/plain": [
       "(960, 64, 64, 1)"
      ]
     },
     "execution_count": 13,
     "metadata": {},
     "output_type": "execute_result"
    }
   ],
   "source": [
    "train_imgs.shape"
   ]
  },
  {
   "cell_type": "code",
   "execution_count": 14,
   "metadata": {},
   "outputs": [],
   "source": [
    "train_label = create_train_label(attacked_watermarks, train_imgs.shape[0])"
   ]
  },
  {
   "cell_type": "markdown",
   "metadata": {},
   "source": [
    "<h3>Model</h3>"
   ]
  },
  {
   "cell_type": "code",
   "execution_count": null,
   "metadata": {},
   "outputs": [],
   "source": [
    "def compute_nc(inputs):\n",
    "    labels = inputs[0]\n",
    "    preds = inputs[1]\n",
    "    \n",
    "    summed = []\n",
    "    for i, pred in enumerate(preds):\n",
    "        summed.append(\n",
    "            extraction.Extraction.normalized_correlation_coef(\n",
    "                labels[i], pred\n",
    "            )\n",
    "        )\n",
    "    print('\\n', summed)\n",
    "    return mean(summed, axis=0)\n",
    "\n",
    "@tf.function \n",
    "def tf_function(input): \n",
    "    return tf.numpy_function(compute_nc, [input], tf.float32) \n",
    "\n",
    "class normalized_correlation_coef(tf.keras.metrics.Metric):\n",
    "    def __init__(self, name=\"normalized correlation\", **kwargs):\n",
    "        super(normalized_correlation_coef, self).__init__(name=name, **kwargs)\n",
    "        self.true_positives = 0\n",
    "\n",
    "    def update_state(self, y_true, y_pred, sample_weight=None):\n",
    "        self.true_positives = tf_function([y_true, y_pred])\n",
    "\n",
    "    def result(self):\n",
    "        return self.true_positives\n",
    "\n",
    "    def reset_states(self):\n",
    "        # The state of the metric will be reset at the start of each epoch.\n",
    "        self.true_positives = 0.0"
   ]
  },
  {
   "cell_type": "code",
   "execution_count": 15,
   "metadata": {},
   "outputs": [],
   "source": [
    "model = tf.keras.Sequential([\n",
    "    # encoder\n",
    "    tf.keras.layers.Conv2D(\n",
    "        8, 7, input_shape=(64, 64, 1), activation='relu', padding = 'same', kernel_initializer = 'random_normal', use_bias=False\n",
    "    ),\n",
    "    tf.keras.layers.Conv2D(\n",
    "        8, 7, activation='relu', padding = 'same', kernel_initializer = 'random_normal', use_bias=False\n",
    "    ),\n",
    "#     tf.keras.layers.BatchNormalization(),\n",
    "    tf.keras.layers.MaxPool2D(),\n",
    "    # decoder\n",
    "    tf.keras.layers.UpSampling2D(),\n",
    "    tf.keras.layers.Conv2D(\n",
    "        1, 7, activation='relu', padding = 'same', kernel_initializer = 'random_normal', use_bias=False\n",
    "    ),\n",
    "    tf.keras.layers.Conv2D(\n",
    "        1, 7, activation='relu', padding = 'same', kernel_initializer = 'random_normal', use_bias=False\n",
    "    ),\n",
    "#     tf.keras.layers.BatchNormalization(),\n",
    "    tf.keras.layers.Conv2D(\n",
    "        2, 7, activation = 'softmax', padding= 'same', kernel_initializer = 'random_normal', use_bias=False\n",
    "    )\n",
    "])\n",
    "\n",
    "model.compile(\n",
    "    optimizer = tf.keras.optimizers.SGD(learning_rate=0.01),\n",
    "    loss = 'categorical_crossentropy',\n",
    "    metrics = ['accuracy']\n",
    ")"
   ]
  },
  {
   "cell_type": "code",
   "execution_count": 16,
   "metadata": {},
   "outputs": [
    {
     "name": "stdout",
     "output_type": "stream",
     "text": [
      "Model: \"sequential\"\n",
      "_________________________________________________________________\n",
      "Layer (type)                 Output Shape              Param #   \n",
      "=================================================================\n",
      "conv2d (Conv2D)              (None, 64, 64, 8)         392       \n",
      "_________________________________________________________________\n",
      "conv2d_1 (Conv2D)            (None, 64, 64, 8)         3136      \n",
      "_________________________________________________________________\n",
      "max_pooling2d (MaxPooling2D) (None, 32, 32, 8)         0         \n",
      "_________________________________________________________________\n",
      "up_sampling2d (UpSampling2D) (None, 64, 64, 8)         0         \n",
      "_________________________________________________________________\n",
      "conv2d_2 (Conv2D)            (None, 64, 64, 1)         392       \n",
      "_________________________________________________________________\n",
      "conv2d_3 (Conv2D)            (None, 64, 64, 1)         49        \n",
      "_________________________________________________________________\n",
      "conv2d_4 (Conv2D)            (None, 64, 64, 2)         98        \n",
      "=================================================================\n",
      "Total params: 4,067\n",
      "Trainable params: 4,067\n",
      "Non-trainable params: 0\n",
      "_________________________________________________________________\n"
     ]
    }
   ],
   "source": [
    "model.summary()"
   ]
  },
  {
   "cell_type": "code",
   "execution_count": 17,
   "metadata": {},
   "outputs": [],
   "source": [
    "history = model.fit(\n",
    "    train_imgs,\n",
    "    train_label,\n",
    "    epochs=100,\n",
    "    batch_size=24,\n",
    "    verbose=0\n",
    ")"
   ]
  },
  {
   "cell_type": "code",
   "execution_count": 18,
   "metadata": {},
   "outputs": [
    {
     "data": {
      "text/plain": [
       "[0.36276042461395264,\n",
       " 0.3541427552700043,\n",
       " 0.35272547602653503,\n",
       " 0.35458603501319885,\n",
       " 0.3616833984851837,\n",
       " 0.3708640933036804,\n",
       " 0.37802785634994507,\n",
       " 0.3857426941394806,\n",
       " 0.38455429673194885,\n",
       " 0.37404659390449524,\n",
       " 0.3682818114757538,\n",
       " 0.365164190530777,\n",
       " 0.36363551020622253,\n",
       " 0.36325937509536743,\n",
       " 0.36298269033432007,\n",
       " 0.36324945092201233,\n",
       " 0.36451035737991333,\n",
       " 0.3672276735305786,\n",
       " 0.37202808260917664,\n",
       " 0.3855428099632263,\n",
       " 0.4242716431617737,\n",
       " 0.4560803771018982,\n",
       " 0.5151415467262268,\n",
       " 0.6405103206634521,\n",
       " 0.6419374942779541,\n",
       " 0.6845418214797974,\n",
       " 0.6655044555664062,\n",
       " 0.6917180418968201,\n",
       " 0.7046579718589783,\n",
       " 0.7013417482376099,\n",
       " 0.7235949039459229,\n",
       " 0.7174184322357178,\n",
       " 0.7213353514671326,\n",
       " 0.7300521731376648,\n",
       " 0.7240588068962097,\n",
       " 0.7419782280921936,\n",
       " 0.7399991154670715,\n",
       " 0.7425277829170227,\n",
       " 0.7390581965446472,\n",
       " 0.7428049445152283,\n",
       " 0.7431541681289673,\n",
       " 0.7476369142532349,\n",
       " 0.7509239315986633,\n",
       " 0.7502893805503845,\n",
       " 0.7521883845329285,\n",
       " 0.7522618770599365,\n",
       " 0.7524556517601013,\n",
       " 0.7552632689476013,\n",
       " 0.7536326050758362,\n",
       " 0.7543871402740479,\n",
       " 0.755780041217804,\n",
       " 0.759393572807312,\n",
       " 0.7560274600982666,\n",
       " 0.7582082152366638,\n",
       " 0.7578341364860535,\n",
       " 0.7582476139068604,\n",
       " 0.757800817489624,\n",
       " 0.7595771551132202,\n",
       " 0.761016309261322,\n",
       " 0.7589945197105408,\n",
       " 0.7608782649040222,\n",
       " 0.7620496153831482,\n",
       " 0.7624391913414001,\n",
       " 0.7635785341262817,\n",
       " 0.7611305117607117,\n",
       " 0.764647901058197,\n",
       " 0.7653854489326477,\n",
       " 0.765747606754303,\n",
       " 0.7649795413017273,\n",
       " 0.7650362849235535,\n",
       " 0.7684112787246704,\n",
       " 0.7634124755859375,\n",
       " 0.7671023011207581,\n",
       " 0.7679425477981567,\n",
       " 0.768304169178009,\n",
       " 0.766430139541626,\n",
       " 0.7698649168014526,\n",
       " 0.7681925296783447,\n",
       " 0.7693855166435242,\n",
       " 0.7684484124183655,\n",
       " 0.771246075630188,\n",
       " 0.7710258364677429,\n",
       " 0.7702445983886719,\n",
       " 0.7689628601074219,\n",
       " 0.7705352902412415,\n",
       " 0.7711888551712036,\n",
       " 0.7707834839820862,\n",
       " 0.7727208733558655,\n",
       " 0.7719218134880066,\n",
       " 0.770428478717804,\n",
       " 0.7731211185455322,\n",
       " 0.7728403806686401,\n",
       " 0.7727198004722595,\n",
       " 0.7733301520347595,\n",
       " 0.7747741937637329,\n",
       " 0.7743914127349854,\n",
       " 0.7726837396621704,\n",
       " 0.7742462158203125,\n",
       " 0.7742548584938049,\n",
       " 0.7744552493095398]"
      ]
     },
     "execution_count": 18,
     "metadata": {},
     "output_type": "execute_result"
    }
   ],
   "source": [
    "history.history['accuracy']"
   ]
  },
  {
   "cell_type": "code",
   "execution_count": 19,
   "metadata": {},
   "outputs": [],
   "source": [
    "image = open(\"static/training/bird.tif\")"
   ]
  },
  {
   "cell_type": "code",
   "execution_count": 20,
   "metadata": {},
   "outputs": [],
   "source": [
    "ext = extraction.Extraction()"
   ]
  },
  {
   "cell_type": "code",
   "execution_count": 21,
   "metadata": {},
   "outputs": [],
   "source": [
    "key = ext.extract_key_from_pil_image(image)"
   ]
  },
  {
   "cell_type": "code",
   "execution_count": 22,
   "metadata": {},
   "outputs": [],
   "source": [
    "em = expand_dims(ext.get_embedding_map(process.Process.pil_to_open_cv(image), key), axis=2)"
   ]
  },
  {
   "cell_type": "code",
   "execution_count": 23,
   "metadata": {},
   "outputs": [],
   "source": [
    "result = model.predict(expand_dims(em, axis=0))"
   ]
  },
  {
   "cell_type": "code",
   "execution_count": 24,
   "metadata": {},
   "outputs": [],
   "source": [
    "classified = []\n",
    "for row in result[0]:\n",
    "    new_row = []\n",
    "    for _px in row:\n",
    "        new_row.append(\n",
    "            255 if _px[0] > _px[1] else 0\n",
    "        )\n",
    "    classified.append(new_row)"
   ]
  },
  {
   "cell_type": "code",
   "execution_count": 25,
   "metadata": {},
   "outputs": [],
   "source": [
    "from matplotlib.pyplot import imshow"
   ]
  },
  {
   "cell_type": "code",
   "execution_count": 26,
   "metadata": {},
   "outputs": [
    {
     "data": {
      "text/plain": [
       "<matplotlib.image.AxesImage at 0x291ac752610>"
      ]
     },
     "execution_count": 26,
     "metadata": {},
     "output_type": "execute_result"
    },
    {
     "data": {
      "image/png": "[encoded data removed]",
      "text/plain": [
       "<Figure size 432x288 with 1 Axes>"
      ]
     },
     "metadata": {
      "needs_background": "light"
     },
     "output_type": "display_data"
    }
   ],
   "source": [
    "imshow(classified, cmap='gray')"
   ]
  },
  {
   "cell_type": "code",
   "execution_count": 27,
   "metadata": {},
   "outputs": [
    {
     "data": {
      "text/plain": [
       "0.8677363022278513"
      ]
     },
     "execution_count": 27,
     "metadata": {},
     "output_type": "execute_result"
    }
   ],
   "source": [
    "extraction.Extraction.normalized_correlation_coef(classified, watermark)"
   ]
  },
  {
   "cell_type": "code",
   "execution_count": 28,
   "metadata": {},
   "outputs": [],
   "source": [
    "layer_dict = dict([(layer.name, layer) for layer in model.layers])"
   ]
  },
  {
   "cell_type": "code",
   "execution_count": 29,
   "metadata": {},
   "outputs": [
    {
     "data": {
      "text/plain": [
       "{'conv2d': <tensorflow.python.keras.layers.convolutional.Conv2D at 0x291aa6a6ac0>,\n",
       " 'conv2d_1': <tensorflow.python.keras.layers.convolutional.Conv2D at 0x291ac0039a0>,\n",
       " 'max_pooling2d': <tensorflow.python.keras.layers.pooling.MaxPooling2D at 0x291ac003b20>,\n",
       " 'up_sampling2d': <tensorflow.python.keras.layers.convolutional.UpSampling2D at 0x291ac003f40>,\n",
       " 'conv2d_2': <tensorflow.python.keras.layers.convolutional.Conv2D at 0x291aa702280>,\n",
       " 'conv2d_3': <tensorflow.python.keras.layers.convolutional.Conv2D at 0x291aa702730>,\n",
       " 'conv2d_4': <tensorflow.python.keras.layers.convolutional.Conv2D at 0x291aa702bb0>}"
      ]
     },
     "execution_count": 29,
     "metadata": {},
     "output_type": "execute_result"
    }
   ],
   "source": [
    "layer_dict"
   ]
  },
  {
   "cell_type": "markdown",
   "metadata": {},
   "source": [
    "<h3>Change Weight Shape</h3>"
   ]
  },
  {
   "cell_type": "code",
   "execution_count": 147,
   "metadata": {},
   "outputs": [],
   "source": [
    "weight = layer_dict['conv2d_4'].weights"
   ]
  },
  {
   "cell_type": "code",
   "execution_count": 148,
   "metadata": {},
   "outputs": [],
   "source": [
    "weight = weight[0].numpy()"
   ]
  },
  {
   "cell_type": "code",
   "execution_count": 149,
   "metadata": {},
   "outputs": [
    {
     "data": {
      "text/plain": [
       "(7, 7, 1, 2)"
      ]
     },
     "execution_count": 149,
     "metadata": {},
     "output_type": "execute_result"
    }
   ],
   "source": [
    "weight.shape"
   ]
  },
  {
   "cell_type": "code",
   "execution_count": 150,
   "metadata": {},
   "outputs": [
    {
     "data": {
      "text/plain": [
       "array([[[[ 0.04316763, -0.03303267]],\n",
       "\n",
       "        [[ 0.06682368, -0.00742341]],\n",
       "\n",
       "        [[ 0.0869441 , -0.02138923]],\n",
       "\n",
       "        [[ 0.08281847, -0.05818615]],\n",
       "\n",
       "        [[-0.03665007,  0.01794455]],\n",
       "\n",
       "        [[ 0.00839506,  0.03650714]],\n",
       "\n",
       "        [[-0.11186419,  0.03926112]]],\n",
       "\n",
       "\n",
       "       [[[ 0.03044833, -0.01200793]],\n",
       "\n",
       "        [[ 0.13373831, -0.08504973]],\n",
       "\n",
       "        [[ 0.10591376, -0.04651026]],\n",
       "\n",
       "        [[ 0.03968359, -0.12539391]],\n",
       "\n",
       "        [[-0.04779579, -0.08171887]],\n",
       "\n",
       "        [[-0.02620913, -0.02801159]],\n",
       "\n",
       "        [[-0.05442336,  0.03498431]]],\n",
       "\n",
       "\n",
       "       [[[ 0.00906968, -0.00655599]],\n",
       "\n",
       "        [[ 0.10251174, -0.02335571]],\n",
       "\n",
       "        [[ 0.10337612, -0.02080983]],\n",
       "\n",
       "        [[ 0.10089402, -0.13070235]],\n",
       "\n",
       "        [[-0.0421761 , -0.05070487]],\n",
       "\n",
       "        [[-0.0394932 , -0.06776013]],\n",
       "\n",
       "        [[-0.03985071, -0.03043484]]],\n",
       "\n",
       "\n",
       "       [[[ 0.0753427 ,  0.03213975]],\n",
       "\n",
       "        [[ 0.07398187, -0.07082447]],\n",
       "\n",
       "        [[ 0.05189873, -0.0803712 ]],\n",
       "\n",
       "        [[ 0.08343481, -0.12669298]],\n",
       "\n",
       "        [[ 0.04865968, -0.02449327]],\n",
       "\n",
       "        [[ 0.02708725, -0.00041497]],\n",
       "\n",
       "        [[-0.01238233, -0.01127758]]],\n",
       "\n",
       "\n",
       "       [[[-0.06512541,  0.06514283]],\n",
       "\n",
       "        [[-0.02592531,  0.09530184]],\n",
       "\n",
       "        [[-0.02704103,  0.03749429]],\n",
       "\n",
       "        [[ 0.03484771,  0.02019124]],\n",
       "\n",
       "        [[-0.10288414,  0.09717952]],\n",
       "\n",
       "        [[-0.11858482,  0.06190836]],\n",
       "\n",
       "        [[-0.07876291,  0.02643731]]],\n",
       "\n",
       "\n",
       "       [[[-0.02030687,  0.03022633]],\n",
       "\n",
       "        [[-0.02019893,  0.02502816]],\n",
       "\n",
       "        [[ 0.00317987,  0.02993851]],\n",
       "\n",
       "        [[-0.00965749, -0.00285827]],\n",
       "\n",
       "        [[-0.06700617,  0.04061338]],\n",
       "\n",
       "        [[-0.01950512,  0.00214494]],\n",
       "\n",
       "        [[-0.0839007 ,  0.07239456]]],\n",
       "\n",
       "\n",
       "       [[[-0.0709728 ,  0.06723273]],\n",
       "\n",
       "        [[-0.05601174,  0.01482248]],\n",
       "\n",
       "        [[-0.07669152, -0.00388164]],\n",
       "\n",
       "        [[-0.09271009, -0.02289069]],\n",
       "\n",
       "        [[-0.11072642,  0.0624611 ]],\n",
       "\n",
       "        [[-0.05567117,  0.1178866 ]],\n",
       "\n",
       "        [[-0.10967121,  0.09226809]]]], dtype=float32)"
      ]
     },
     "execution_count": 150,
     "metadata": {},
     "output_type": "execute_result"
    }
   ],
   "source": [
    "weight"
   ]
  },
  {
   "cell_type": "code",
   "execution_count": 151,
   "metadata": {},
   "outputs": [],
   "source": [
    "def reverse_shape(weight):\n",
    "    \"\"\"7718 -> 8177\"\"\"\n",
    "    ch_number = weight.shape[3]\n",
    "    input_number = weight.shape[2]\n",
    "    new_weight = []\n",
    "    for i in range(ch_number):\n",
    "        new_channel = []\n",
    "        for j in range(input_number):\n",
    "            new_input = []\n",
    "            for row in weight:\n",
    "                new_row = []\n",
    "                for _px in row:\n",
    "                    new_row.append(_px[j][i])\n",
    "                new_input.append(new_row)\n",
    "            new_channel.append(new_input)\n",
    "        new_weight.append(new_channel)\n",
    "    return new_weight"
   ]
  },
  {
   "cell_type": "code",
   "execution_count": null,
   "metadata": {},
   "outputs": [],
   "source": [
    "def fix_reverse_shape(weight):\n",
    "    \"\"\"877 -> 778\"\"\"\n",
    "    (i_number, w, h) = weight.shape\n",
    "    new_weight = np.zeros((w, h, i_number))\n",
    "    for i in range(i_number):\n",
    "        for j in range(w):\n",
    "            for k in range(h):\n",
    "                new_weight[j, k, i] = weight[i, j, k]\n",
    "    return new_weight"
   ]
  },
  {
   "cell_type": "code",
   "execution_count": 152,
   "metadata": {},
   "outputs": [],
   "source": [
    "reversed_weight = array(reverse_shape(weight))"
   ]
  },
  {
   "cell_type": "code",
   "execution_count": 153,
   "metadata": {},
   "outputs": [
    {
     "data": {
      "text/plain": [
       "array([[[[ 0.04316763,  0.06682368,  0.0869441 ,  0.08281847,\n",
       "          -0.03665007,  0.00839506, -0.11186419],\n",
       "         [ 0.03044833,  0.13373831,  0.10591376,  0.03968359,\n",
       "          -0.04779579, -0.02620913, -0.05442336],\n",
       "         [ 0.00906968,  0.10251174,  0.10337612,  0.10089402,\n",
       "          -0.0421761 , -0.0394932 , -0.03985071],\n",
       "         [ 0.0753427 ,  0.07398187,  0.05189873,  0.08343481,\n",
       "           0.04865968,  0.02708725, -0.01238233],\n",
       "         [-0.06512541, -0.02592531, -0.02704103,  0.03484771,\n",
       "          -0.10288414, -0.11858482, -0.07876291],\n",
       "         [-0.02030687, -0.02019893,  0.00317987, -0.00965749,\n",
       "          -0.06700617, -0.01950512, -0.0839007 ],\n",
       "         [-0.0709728 , -0.05601174, -0.07669152, -0.09271009,\n",
       "          -0.11072642, -0.05567117, -0.10967121]]],\n",
       "\n",
       "\n",
       "       [[[-0.03303267, -0.00742341, -0.02138923, -0.05818615,\n",
       "           0.01794455,  0.03650714,  0.03926112],\n",
       "         [-0.01200793, -0.08504973, -0.04651026, -0.12539391,\n",
       "          -0.08171887, -0.02801159,  0.03498431],\n",
       "         [-0.00655599, -0.02335571, -0.02080983, -0.13070235,\n",
       "          -0.05070487, -0.06776013, -0.03043484],\n",
       "         [ 0.03213975, -0.07082447, -0.0803712 , -0.12669298,\n",
       "          -0.02449327, -0.00041497, -0.01127758],\n",
       "         [ 0.06514283,  0.09530184,  0.03749429,  0.02019124,\n",
       "           0.09717952,  0.06190836,  0.02643731],\n",
       "         [ 0.03022633,  0.02502816,  0.02993851, -0.00285827,\n",
       "           0.04061338,  0.00214494,  0.07239456],\n",
       "         [ 0.06723273,  0.01482248, -0.00388164, -0.02289069,\n",
       "           0.0624611 ,  0.1178866 ,  0.09226809]]]], dtype=float32)"
      ]
     },
     "execution_count": 153,
     "metadata": {},
     "output_type": "execute_result"
    }
   ],
   "source": [
    "reversed_weight"
   ]
  },
  {
   "cell_type": "code",
   "execution_count": 154,
   "metadata": {},
   "outputs": [],
   "source": [
    "def create_param_dict(weight, prefix):\n",
    "    param = {}\n",
    "    for i, channel in enumerate(weight):\n",
    "        for j, matrix in enumerate(channel):\n",
    "            param[prefix + '-' + str(i) + '-' + str(j)] = matrix\n",
    "    return param"
   ]
  },
  {
   "cell_type": "code",
   "execution_count": 144,
   "metadata": {},
   "outputs": [],
   "source": [
    "param_dict = create_param_dict(reversed_weight, 'dec0-1')"
   ]
  },
  {
   "cell_type": "code",
   "execution_count": 155,
   "metadata": {},
   "outputs": [],
   "source": [
    "reversed_weight = reversed_weight.reshape((2,7,7))\n",
    "param_dict = {\n",
    "    'softmax-bg': reversed_weight[1],\n",
    "    'softmax-fg': reversed_weight[0]\n",
    "}"
   ]
  },
  {
   "cell_type": "code",
   "execution_count": 156,
   "metadata": {},
   "outputs": [
    {
     "data": {
      "text/plain": [
       "{'softmax-bg': array([[-0.03303267, -0.00742341, -0.02138923, -0.05818615,  0.01794455,\n",
       "          0.03650714,  0.03926112],\n",
       "        [-0.01200793, -0.08504973, -0.04651026, -0.12539391, -0.08171887,\n",
       "         -0.02801159,  0.03498431],\n",
       "        [-0.00655599, -0.02335571, -0.02080983, -0.13070235, -0.05070487,\n",
       "         -0.06776013, -0.03043484],\n",
       "        [ 0.03213975, -0.07082447, -0.0803712 , -0.12669298, -0.02449327,\n",
       "         -0.00041497, -0.01127758],\n",
       "        [ 0.06514283,  0.09530184,  0.03749429,  0.02019124,  0.09717952,\n",
       "          0.06190836,  0.02643731],\n",
       "        [ 0.03022633,  0.02502816,  0.02993851, -0.00285827,  0.04061338,\n",
       "          0.00214494,  0.07239456],\n",
       "        [ 0.06723273,  0.01482248, -0.00388164, -0.02289069,  0.0624611 ,\n",
       "          0.1178866 ,  0.09226809]], dtype=float32),\n",
       " 'softmax-fg': array([[ 0.04316763,  0.06682368,  0.0869441 ,  0.08281847, -0.03665007,\n",
       "          0.00839506, -0.11186419],\n",
       "        [ 0.03044833,  0.13373831,  0.10591376,  0.03968359, -0.04779579,\n",
       "         -0.02620913, -0.05442336],\n",
       "        [ 0.00906968,  0.10251174,  0.10337612,  0.10089402, -0.0421761 ,\n",
       "         -0.0394932 , -0.03985071],\n",
       "        [ 0.0753427 ,  0.07398187,  0.05189873,  0.08343481,  0.04865968,\n",
       "          0.02708725, -0.01238233],\n",
       "        [-0.06512541, -0.02592531, -0.02704103,  0.03484771, -0.10288414,\n",
       "         -0.11858482, -0.07876291],\n",
       "        [-0.02030687, -0.02019893,  0.00317987, -0.00965749, -0.06700617,\n",
       "         -0.01950512, -0.0839007 ],\n",
       "        [-0.0709728 , -0.05601174, -0.07669152, -0.09271009, -0.11072642,\n",
       "         -0.05567117, -0.10967121]], dtype=float32)}"
      ]
     },
     "execution_count": 156,
     "metadata": {},
     "output_type": "execute_result"
    }
   ],
   "source": [
    "param_dict"
   ]
  },
  {
   "cell_type": "code",
   "execution_count": 157,
   "metadata": {},
   "outputs": [],
   "source": [
    "cnn.CNN.store_param(param_dict)"
   ]
  },
  {
   "cell_type": "markdown",
   "metadata": {},
   "source": [
    "<h3>Get Visualization Model</h3>"
   ]
  },
  {
   "cell_type": "code",
   "execution_count": 52,
   "metadata": {},
   "outputs": [],
   "source": [
    "outputs = [layer.output for layer in model.layers[1:]]"
   ]
  },
  {
   "cell_type": "code",
   "execution_count": 53,
   "metadata": {},
   "outputs": [],
   "source": [
    "visualization_model = tf.keras.models.Model(inputs = model.input, outputs = outputs)"
   ]
  },
  {
   "cell_type": "code",
   "execution_count": 54,
   "metadata": {},
   "outputs": [],
   "source": [
    "feature_maps = visualization_model.predict(array([train_imgs[0]]))"
   ]
  },
  {
   "cell_type": "code",
   "execution_count": 55,
   "metadata": {},
   "outputs": [
    {
     "data": {
      "text/plain": [
       "<matplotlib.image.AxesImage at 0x291ad09e790>"
      ]
     },
     "execution_count": 55,
     "metadata": {},
     "output_type": "execute_result"
    },
    {
     "data": {
      "image/png": "[encoded data removed]",
      "text/plain": [
       "<Figure size 432x288 with 1 Axes>"
      ]
     },
     "metadata": {
      "needs_background": "light"
     },
     "output_type": "display_data"
    }
   ],
   "source": [
    "imshow(array(train_imgs[0]).reshape((64, 64)))"
   ]
  },
  {
   "cell_type": "code",
   "execution_count": 103,
   "metadata": {},
   "outputs": [
    {
     "data": {
      "text/plain": [
       "array([[ 34.,  34.,  34., ..., 212., 212., 212.],\n",
       "       [ 34.,  34.,  34., ..., 206., 206., 206.],\n",
       "       [ 34.,  34.,  34., ..., 184., 184., 183.],\n",
       "       ...,\n",
       "       [ 74.,  74.,  74., ...,  74.,  74.,  74.],\n",
       "       [ 74.,  74.,  74., ...,  74.,  74.,  74.],\n",
       "       [ 74.,  74.,  74., ...,  74.,  74.,  74.]])"
      ]
     },
     "execution_count": 103,
     "metadata": {},
     "output_type": "execute_result"
    }
   ],
   "source": [
    "array(train_imgs[0]).reshape((64, 64))"
   ]
  },
  {
   "cell_type": "code",
   "execution_count": 56,
   "metadata": {},
   "outputs": [],
   "source": [
    "def reverse_shape_fm(feature_map):\n",
    "    ch_number = feature_map.shape[2]\n",
    "    new_fm = []\n",
    "    for i in range(ch_number):\n",
    "        new_channel = []\n",
    "        for row in feature_map:\n",
    "            new_row = []\n",
    "            for _px in row:\n",
    "                new_row.append(_px[i])\n",
    "            new_channel.append(new_row)\n",
    "        new_fm.append(new_channel)\n",
    "    return new_fm"
   ]
  },
  {
   "cell_type": "code",
   "execution_count": 57,
   "metadata": {},
   "outputs": [
    {
     "data": {
      "text/plain": [
       "(1, 64, 64, 2)"
      ]
     },
     "execution_count": 57,
     "metadata": {},
     "output_type": "execute_result"
    }
   ],
   "source": [
    "array(feature_maps[5]).shape"
   ]
  },
  {
   "cell_type": "code",
   "execution_count": 58,
   "metadata": {},
   "outputs": [],
   "source": [
    "reversed_fm = reverse_shape_fm(feature_maps[0][0])"
   ]
  },
  {
   "cell_type": "code",
   "execution_count": 59,
   "metadata": {},
   "outputs": [],
   "source": [
    "from matplotlib.pyplot import figure"
   ]
  },
  {
   "cell_type": "code",
   "execution_count": 60,
   "metadata": {
    "scrolled": true
   },
   "outputs": [
    {
     "data": {
      "text/plain": [
       "(8, 64, 64)"
      ]
     },
     "execution_count": 60,
     "metadata": {},
     "output_type": "execute_result"
    }
   ],
   "source": [
    "array(reversed_fm).shape"
   ]
  },
  {
   "cell_type": "code",
   "execution_count": 61,
   "metadata": {},
   "outputs": [
    {
     "data": {
      "text/plain": [
       "array([[[ 0.6040822 ,  0.        ,  0.        , ...,  1.2195082 ,\n",
       "          1.0124474 ,  0.        ],\n",
       "        [ 2.7981534 ,  0.        ,  0.72600055, ...,  0.        ,\n",
       "          0.        ,  0.        ],\n",
       "        [ 0.        ,  0.        ,  0.        , ...,  0.        ,\n",
       "          0.        ,  3.2253866 ],\n",
       "        ...,\n",
       "        [29.010277  , 24.753557  , 30.399986  , ...,  0.        ,\n",
       "          3.2296133 ,  4.7248287 ],\n",
       "        [14.761791  , 14.6932535 , 19.666828  , ...,  1.526824  ,\n",
       "          8.590334  , 13.273735  ],\n",
       "        [13.788467  , 16.279144  , 27.024467  , ..., 18.871645  ,\n",
       "         19.779018  , 25.180862  ]],\n",
       "\n",
       "       [[ 2.1733608 ,  1.8065307 ,  3.5839624 , ...,  0.        ,\n",
       "          0.        ,  2.1176786 ],\n",
       "        [ 1.6988473 ,  2.2372084 ,  6.200533  , ...,  0.        ,\n",
       "          7.449803  , 11.233598  ],\n",
       "        [ 0.        ,  0.        ,  1.4995111 , ...,  0.        ,\n",
       "          0.        ,  0.        ],\n",
       "        ...,\n",
       "        [ 0.        ,  0.        ,  6.989583  , ...,  0.        ,\n",
       "          0.        ,  0.        ],\n",
       "        [ 0.        ,  0.        ,  0.4121349 , ...,  0.        ,\n",
       "          0.        ,  0.        ],\n",
       "        [ 0.        ,  3.4789262 ,  6.5470505 , ...,  0.        ,\n",
       "          0.        ,  0.        ]],\n",
       "\n",
       "       [[ 6.886432  ,  6.784442  ,  4.266165  , ...,  0.        ,\n",
       "          1.204319  ,  9.181447  ],\n",
       "        [10.819671  ,  8.717807  ,  5.885499  , ...,  0.        ,\n",
       "          0.        ,  0.        ],\n",
       "        [12.014819  ,  8.775961  ,  2.4591465 , ...,  0.        ,\n",
       "          0.        ,  0.        ],\n",
       "        ...,\n",
       "        [24.58341   , 13.215843  ,  0.13123417, ...,  0.        ,\n",
       "          0.        ,  0.        ],\n",
       "        [29.770573  , 26.225368  , 12.987377  , ...,  0.        ,\n",
       "          0.        ,  0.        ],\n",
       "        [25.14629   , 23.878014  , 11.254778  , ...,  0.        ,\n",
       "          0.        ,  0.        ]],\n",
       "\n",
       "       ...,\n",
       "\n",
       "       [[ 6.304352  ,  3.4619696 ,  0.30207574, ...,  0.        ,\n",
       "          1.3629756 , 12.182249  ],\n",
       "        [ 4.5995073 ,  0.        ,  0.        , ...,  0.        ,\n",
       "          0.        ,  7.6301813 ],\n",
       "        [ 3.384973  ,  0.        ,  0.        , ...,  0.        ,\n",
       "          0.        ,  9.711777  ],\n",
       "        ...,\n",
       "        [ 0.        ,  0.        ,  0.        , ...,  0.        ,\n",
       "          0.        ,  1.356266  ],\n",
       "        [ 0.        ,  0.        ,  0.        , ...,  0.        ,\n",
       "          0.        ,  0.17687464],\n",
       "        [ 0.        ,  0.        ,  0.        , ...,  0.        ,\n",
       "          0.        ,  3.069519  ]],\n",
       "\n",
       "       [[ 0.        ,  0.        ,  0.        , ...,  0.        ,\n",
       "          0.        ,  0.        ],\n",
       "        [ 0.        ,  0.        ,  0.        , ...,  0.        ,\n",
       "          0.        ,  0.        ],\n",
       "        [ 0.        ,  0.        ,  0.        , ...,  0.        ,\n",
       "          0.56314445,  0.        ],\n",
       "        ...,\n",
       "        [ 3.065588  ,  4.7553654 ,  3.1525974 , ..., 10.793667  ,\n",
       "         13.905959  ,  8.27757   ],\n",
       "        [33.534817  , 39.052277  , 38.742138  , ..., 40.124146  ,\n",
       "         34.85064   , 29.184881  ],\n",
       "        [13.820751  , 14.389748  ,  4.014706  , ...,  6.583827  ,\n",
       "          7.2545004 ,  9.088258  ]],\n",
       "\n",
       "       [[ 0.        ,  0.        ,  0.        , ...,  0.        ,\n",
       "          0.        ,  0.        ],\n",
       "        [ 0.        ,  0.        ,  0.        , ...,  0.        ,\n",
       "          0.        ,  0.        ],\n",
       "        [ 0.        ,  0.        ,  0.        , ...,  0.        ,\n",
       "          0.        ,  0.        ],\n",
       "        ...,\n",
       "        [ 0.        ,  0.        ,  0.        , ...,  0.        ,\n",
       "          0.        ,  0.        ],\n",
       "        [ 0.        , 11.561209  , 13.227945  , ..., 22.776405  ,\n",
       "         26.03618   , 12.110455  ],\n",
       "        [15.3382015 , 32.14304   , 40.97277   , ..., 34.554325  ,\n",
       "         35.482674  , 22.140894  ]]], dtype=float32)"
      ]
     },
     "execution_count": 61,
     "metadata": {},
     "output_type": "execute_result"
    }
   ],
   "source": [
    "array(reversed_fm)"
   ]
  },
  {
   "cell_type": "code",
   "execution_count": 51,
   "metadata": {},
   "outputs": [
    {
     "data": {
      "image/png": "[encoded data removed]",
      "text/plain": [
       "<Figure size 3600x3600 with 8 Axes>"
      ]
     },
     "metadata": {
      "needs_background": "light"
     },
     "output_type": "display_data"
    }
   ],
   "source": [
    "fig = figure(figsize=(50, 50))\n",
    "for i in range(len(reversed_fm)):\n",
    "    sub = fig.add_subplot(2, 16, i + 1)\n",
    "    sub.imshow(reversed_fm[i], interpolation='nearest')"
   ]
  },
  {
   "cell_type": "code",
   "execution_count": null,
   "metadata": {},
   "outputs": [],
   "source": [
    "fig = figure(figsize=(50, 50))\n",
    "for i in range(len(reversed_fm)):\n",
    "    sub = fig.add_subplot(2, 16, i + 1)\n",
    "    sub.imshow(reversed_fm[i], interpolation='nearest')"
   ]
  },
  {
   "cell_type": "code",
   "execution_count": null,
   "metadata": {},
   "outputs": [],
   "source": [
    "fig = figure(figsize=(50, 50))\n",
    "for i in range(len(reversed_fm)):\n",
    "    sub = fig.add_subplot(2, 16, i + 1)\n",
    "    sub.imshow(reversed_fm[i], interpolation='nearest')"
   ]
  },
  {
   "cell_type": "code",
   "execution_count": null,
   "metadata": {},
   "outputs": [],
   "source": [
    "fig = figure(figsize=(50, 50))\n",
    "for i in range(len(reversed_fm)):\n",
    "    sub = fig.add_subplot(2, 16, i + 1)\n",
    "    sub.imshow(reversed_fm[i], interpolation='nearest')"
   ]
  },
  {
   "cell_type": "code",
   "execution_count": null,
   "metadata": {},
   "outputs": [],
   "source": [
    "fig = figure(figsize=(50, 50))\n",
    "for i in range(len(reversed_fm)):\n",
    "    sub = fig.add_subplot(2, 16, i + 1)\n",
    "    sub.imshow(reversed_fm[i], interpolation='nearest')"
   ]
  },
  {
   "cell_type": "code",
   "execution_count": null,
   "metadata": {},
   "outputs": [],
   "source": [
    "fig = figure(figsize=(50, 50))\n",
    "for i in range(len(reversed_fm)):\n",
    "    sub = fig.add_subplot(2, 16, i + 1)\n",
    "    sub.imshow(reversed_fm[i], interpolation='nearest')"
   ]
  },
  {
   "cell_type": "code",
   "execution_count": 119,
   "metadata": {},
   "outputs": [
    {
     "name": "stdout",
     "output_type": "stream",
     "text": [
      "(7, 7, 1, 8)\n",
      "WARNING:tensorflow:Layer conv2d_5 is casting an input tensor from dtype float64 to the layer's dtype of float32, which is new behavior in TensorFlow 2.  The layer has dtype float32 because it's dtype defaults to floatx.\n",
      "\n",
      "If you intended to run this layer in float32, you can safely ignore this warning. If in doubt, this warning is likely only an issue if you are porting a TensorFlow 1.X model to TensorFlow 2.\n",
      "\n",
      "To change all layers to have dtype float64 by default, call `tf.keras.backend.set_floatx('float64')`. To change just this layer, pass dtype='float64' to the layer constructor. If you are the author of this layer, you can disable autocasting by passing autocast=False to the base Layer constructor.\n",
      "\n"
     ]
    }
   ],
   "source": [
    "a = tf.keras.layers.Conv2D(\n",
    "    8, 7, input_shape=(64, 64, 1), padding = 'same', kernel_initializer=tes, use_bias=False\n",
    ")(array([train_imgs[0]]))"
   ]
  },
  {
   "cell_type": "code",
   "execution_count": 118,
   "metadata": {},
   "outputs": [],
   "source": [
    "def tes(shape, dtype=None):\n",
    "    w = layer_dict['conv2d'].weights[0].numpy()\n",
    "    print(w.shape)\n",
    "#     w[tuple(map(lambda x: int(np.floor(x/2)), w.shape))]=1\n",
    "    return w"
   ]
  },
  {
   "cell_type": "code",
   "execution_count": null,
   "metadata": {},
   "outputs": [],
   "source": [
    "a = a.numpy()"
   ]
  },
  {
   "cell_type": "code",
   "execution_count": 159,
   "metadata": {},
   "outputs": [
    {
     "data": {
      "text/plain": [
       "<matplotlib.image.AxesImage at 0x291ad3a5670>"
      ]
     },
     "execution_count": 159,
     "metadata": {},
     "output_type": "execute_result"
    },
    {
     "data": {
      "image/png": "[encoded data removed]",
      "text/plain": [
       "<Figure size 432x288 with 1 Axes>"
      ]
     },
     "metadata": {
      "needs_background": "light"
     },
     "output_type": "display_data"
    }
   ],
   "source": [
    "imshow(reverse_shape_fm(a[0])[3])"
   ]
  },
  {
   "cell_type": "code",
   "execution_count": 121,
   "metadata": {},
   "outputs": [
    {
     "data": {
      "text/plain": [
       "(1, 64, 64, 8)"
      ]
     },
     "execution_count": 121,
     "metadata": {},
     "output_type": "execute_result"
    }
   ],
   "source": [
    "a.numpy().shape"
   ]
  },
  {
   "cell_type": "code",
   "execution_count": 161,
   "metadata": {},
   "outputs": [
    {
     "data": {
      "text/plain": [
       "<tf.Tensor: shape=(1, 128, 128, 8), dtype=float32, numpy=\n",
       "array([[[[  21.968494  ,  -10.11744   ,    4.2020807 , ...,\n",
       "            -3.7001157 ,   -0.8948494 ,  -10.002137  ],\n",
       "         [  21.968494  ,  -10.11744   ,    4.2020807 , ...,\n",
       "            -3.7001157 ,   -0.8948494 ,  -10.002137  ],\n",
       "         [  20.831596  ,  -12.792362  ,    6.7517614 , ...,\n",
       "            -9.160358  ,   -2.191156  ,   -4.4719534 ],\n",
       "         ...,\n",
       "         [ -14.825103  , -108.907364  ,   29.794392  , ...,\n",
       "           -89.17079   ,  -49.924133  ,  -14.512537  ],\n",
       "         [ -50.135323  ,  -82.78386   ,   16.903257  , ...,\n",
       "           -87.95253   ,  -22.37598   ,   -1.1489921 ],\n",
       "         [ -50.135323  ,  -82.78386   ,   16.903257  , ...,\n",
       "           -87.95253   ,  -22.37598   ,   -1.1489921 ]],\n",
       "\n",
       "        [[  21.968494  ,  -10.11744   ,    4.2020807 , ...,\n",
       "            -3.7001157 ,   -0.8948494 ,  -10.002137  ],\n",
       "         [  21.968494  ,  -10.11744   ,    4.2020807 , ...,\n",
       "            -3.7001157 ,   -0.8948494 ,  -10.002137  ],\n",
       "         [  20.831596  ,  -12.792362  ,    6.7517614 , ...,\n",
       "            -9.160358  ,   -2.191156  ,   -4.4719534 ],\n",
       "         ...,\n",
       "         [ -14.825103  , -108.907364  ,   29.794392  , ...,\n",
       "           -89.17079   ,  -49.924133  ,  -14.512537  ],\n",
       "         [ -50.135323  ,  -82.78386   ,   16.903257  , ...,\n",
       "           -87.95253   ,  -22.37598   ,   -1.1489921 ],\n",
       "         [ -50.135323  ,  -82.78386   ,   16.903257  , ...,\n",
       "           -87.95253   ,  -22.37598   ,   -1.1489921 ]],\n",
       "\n",
       "        [[  26.645382  ,   -5.4006543 ,   -2.550673  , ...,\n",
       "            -4.58282   ,   -0.28526124,   -7.7494016 ],\n",
       "         [  26.645382  ,   -5.4006543 ,   -2.550673  , ...,\n",
       "            -4.58282   ,   -0.28526124,   -7.7494016 ],\n",
       "         [  24.666637  ,   -6.869865  ,    3.201622  , ...,\n",
       "           -10.24067   ,   -2.2910333 ,   -5.216387  ],\n",
       "         ...,\n",
       "         [  -2.0772219 ,  -37.96301   ,    5.162716  , ...,\n",
       "           -89.88777   ,  -55.85637   ,   -1.7343941 ],\n",
       "         [ -42.784718  ,  -17.121944  ,   24.241379  , ...,\n",
       "           -81.25163   ,  -27.157293  ,    1.5082607 ],\n",
       "         [ -42.784718  ,  -17.121944  ,   24.241379  , ...,\n",
       "           -81.25163   ,  -27.157293  ,    1.5082607 ]],\n",
       "\n",
       "        ...,\n",
       "\n",
       "        [[  61.128494  ,   30.562382  ,    9.264952  , ...,\n",
       "           -11.244939  ,  -26.318756  ,  -16.734488  ],\n",
       "         [  61.128494  ,   30.562382  ,    9.264952  , ...,\n",
       "           -11.244939  ,  -26.318756  ,  -16.734488  ],\n",
       "         [  45.086647  ,   40.4379    ,   20.8722    , ...,\n",
       "           -22.120777  ,  -33.318436  ,  -22.216528  ],\n",
       "         ...,\n",
       "         [   2.7401047 ,   55.64206   ,   14.607491  , ...,\n",
       "           -43.956734  ,  -33.70365   ,   -7.197753  ],\n",
       "         [ -15.65365   ,   56.77665   ,   19.392776  , ...,\n",
       "           -35.28795   ,  -23.532156  ,    1.3261697 ],\n",
       "         [ -15.65365   ,   56.77665   ,   19.392776  , ...,\n",
       "           -35.28795   ,  -23.532156  ,    1.3261697 ]],\n",
       "\n",
       "        [[  61.948277  ,   27.785608  ,   -1.9181504 , ...,\n",
       "            -4.606694  ,  -24.249067  ,   -4.6078644 ],\n",
       "         [  61.948277  ,   27.785608  ,   -1.9181504 , ...,\n",
       "            -4.606694  ,  -24.249067  ,   -4.6078644 ],\n",
       "         [  49.938087  ,   37.87854   ,    6.565208  , ...,\n",
       "           -11.983553  ,  -30.54842   ,  -11.707083  ],\n",
       "         ...,\n",
       "         [   9.745457  ,   43.59723   ,   -2.5803154 , ...,\n",
       "           -31.32547   ,  -23.299759  ,   -2.743059  ],\n",
       "         [  -7.595442  ,   45.66482   ,    7.6686983 , ...,\n",
       "           -26.747814  ,  -13.318291  ,    3.8818235 ],\n",
       "         [  -7.595442  ,   45.66482   ,    7.6686983 , ...,\n",
       "           -26.747814  ,  -13.318291  ,    3.8818235 ]],\n",
       "\n",
       "        [[  61.948277  ,   27.785608  ,   -1.9181504 , ...,\n",
       "            -4.606694  ,  -24.249067  ,   -4.6078644 ],\n",
       "         [  61.948277  ,   27.785608  ,   -1.9181504 , ...,\n",
       "            -4.606694  ,  -24.249067  ,   -4.6078644 ],\n",
       "         [  49.938087  ,   37.87854   ,    6.565208  , ...,\n",
       "           -11.983553  ,  -30.54842   ,  -11.707083  ],\n",
       "         ...,\n",
       "         [   9.745457  ,   43.59723   ,   -2.5803154 , ...,\n",
       "           -31.32547   ,  -23.299759  ,   -2.743059  ],\n",
       "         [  -7.595442  ,   45.66482   ,    7.6686983 , ...,\n",
       "           -26.747814  ,  -13.318291  ,    3.8818235 ],\n",
       "         [  -7.595442  ,   45.66482   ,    7.6686983 , ...,\n",
       "           -26.747814  ,  -13.318291  ,    3.8818235 ]]]], dtype=float32)>"
      ]
     },
     "execution_count": 161,
     "metadata": {},
     "output_type": "execute_result"
    }
   ],
   "source": [
    "tf.keras.layers.UpSampling2D()(a.numpy())"
   ]
  },
  {
   "cell_type": "code",
   "execution_count": 160,
   "metadata": {},
   "outputs": [
    {
     "data": {
      "text/plain": [
       "TensorShape([1, 64, 64, 8])"
      ]
     },
     "execution_count": 160,
     "metadata": {},
     "output_type": "execute_result"
    }
   ],
   "source": [
    "a.shape"
   ]
  },
  {
   "cell_type": "code",
   "execution_count": null,
   "metadata": {},
   "outputs": [],
   "source": []
  }
 ],
 "metadata": {
  "kernelspec": {
   "display_name": "Python 3",
   "language": "python",
   "name": "python3"
  },
  "language_info": {
   "codemirror_mode": {
    "name": "ipython",
    "version": 3
   },
   "file_extension": ".py",
   "mimetype": "text/x-python",
   "name": "python",
   "nbconvert_exporter": "python",
   "pygments_lexer": "ipython3",
   "version": "3.8.2"
  }
 },
 "nbformat": 4,
 "nbformat_minor": 4
}
