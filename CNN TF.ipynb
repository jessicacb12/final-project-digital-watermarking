{
 "cells": [
  {
   "cell_type": "code",
   "execution_count": 1,
   "metadata": {},
   "outputs": [],
   "source": [
    "import tensorflow as tf"
   ]
  },
  {
   "cell_type": "code",
   "execution_count": 2,
   "metadata": {},
   "outputs": [],
   "source": [
    "from PIL.Image import open\n",
    "from numpy import array, float32, reshape"
   ]
  },
  {
   "cell_type": "code",
   "execution_count": 3,
   "metadata": {},
   "outputs": [],
   "source": [
    "from watermarking import training"
   ]
  },
  {
   "cell_type": "code",
   "execution_count": 4,
   "metadata": {},
   "outputs": [],
   "source": [
    "from re import sub, search\n",
    "from os import listdir\n",
    "from numpy import expand_dims, uint8, mean, asarray, flip\n",
    "from watermarking import embedding, process, extraction, cnn"
   ]
  },
  {
   "cell_type": "markdown",
   "metadata": {},
   "source": [
    "<h3>Change Watermark to One-Hot</h3>"
   ]
  },
  {
   "cell_type": "code",
   "execution_count": 5,
   "metadata": {},
   "outputs": [],
   "source": [
    "def WM_to_one_hot(wm):\n",
    "    one_hot = []\n",
    "    for row in wm:\n",
    "        new_row = []\n",
    "        for _px in row:\n",
    "            new_row.append(\n",
    "                [0, 1] if _px == 0 else [1, 0]\n",
    "            )\n",
    "        one_hot.append(new_row)\n",
    "    return array(one_hot)\n",
    "\n",
    "def WMs_to_one_hot(wms):\n",
    "    one_hot_wms = []\n",
    "    for wm in wms:\n",
    "        one_hot_wms.append(WM_to_one_hot(wm))\n",
    "    return array(one_hot_wms)"
   ]
  },
  {
   "cell_type": "code",
   "execution_count": 6,
   "metadata": {
    "scrolled": true
   },
   "outputs": [
    {
     "name": "stdout",
     "output_type": "stream",
     "text": [
      "initializing\n",
      "enc   0  ->  64\n",
      "dec   0  ->  64\n"
     ]
    }
   ],
   "source": [
    "train = training.Training()"
   ]
  },
  {
   "cell_type": "code",
   "execution_count": 7,
   "metadata": {},
   "outputs": [],
   "source": [
    "attacked_watermarks = WMs_to_one_hot(\n",
    "    train.normalize_watermark(\n",
    "        train.apply_transformations(\n",
    "            open(\"Watermark.tiff\"), iswatermark=True\n",
    "        )\n",
    "    )\n",
    ")\n"
   ]
  },
  {
   "cell_type": "code",
   "execution_count": 8,
   "metadata": {},
   "outputs": [],
   "source": [
    "test = train.normalize_watermark(\n",
    "    train.apply_transformations(\n",
    "        open(\"Watermark.tiff\"), iswatermark=True\n",
    "    )\n",
    ")"
   ]
  },
  {
   "cell_type": "code",
   "execution_count": 9,
   "metadata": {},
   "outputs": [],
   "source": [
    "watermark = open(\"Watermark.tiff\")"
   ]
  },
  {
   "cell_type": "markdown",
   "metadata": {},
   "source": [
    "<h3>Load Training Images</h3>"
   ]
  },
  {
   "cell_type": "code",
   "execution_count": 10,
   "metadata": {},
   "outputs": [],
   "source": [
    "def create_train_label(wms, total_img):\n",
    "    train_label = []\n",
    "    attack_i = 0\n",
    "    for i in range(total_img):\n",
    "        train_label.append(wms[0])\n",
    "        attack_i += 1\n",
    "        if attack_i == 24:\n",
    "            attack_i = 0\n",
    "    return array(train_label)"
   ]
  },
  {
   "cell_type": "code",
   "execution_count": 11,
   "metadata": {
    "scrolled": true
   },
   "outputs": [
    {
     "name": "stdout",
     "output_type": "stream",
     "text": [
      "total:  24\n",
      "total:  24\n",
      "total:  24\n",
      "total:  24\n",
      "total:  24\n",
      "total:  24\n",
      "total:  24\n",
      "total:  24\n",
      "total:  24\n",
      "total:  24\n",
      "total:  24\n",
      "total:  24\n",
      "total:  24\n",
      "total:  24\n",
      "total:  24\n",
      "total:  24\n",
      "total:  24\n",
      "total:  24\n",
      "total:  24\n",
      "total:  24\n",
      "total:  24\n",
      "total:  24\n",
      "total:  24\n",
      "total:  24\n",
      "total:  24\n",
      "total:  24\n",
      "total:  24\n",
      "total:  24\n",
      "total:  24\n",
      "total:  24\n",
      "total:  24\n",
      "total:  24\n",
      "total:  24\n",
      "total:  24\n",
      "total:  24\n",
      "total:  24\n",
      "total:  24\n",
      "total:  24\n",
      "total:  24\n",
      "total:  24\n"
     ]
    }
   ],
   "source": [
    "training_images_filename = listdir(train.PRE_TRAINING_PATH)\n",
    "train_imgs = []\n",
    "for filename in training_images_filename:\n",
    "    image = open(train.PRE_TRAINING_PATH + \"/\" + filename)\n",
    "    full_path = train.TRAINING_PATH + \"/\" + sub(\n",
    "       search(\".tif+$\", filename).group(), \"\", filename\n",
    "    )\n",
    "    embedding.Embedding().embed_watermark(\n",
    "        process.Process.pil_to_open_cv(\n",
    "            image\n",
    "        ),\n",
    "        array(watermark, dtype=uint8),\n",
    "        full_path\n",
    "    )\n",
    "    image = open(full_path + \".tif\")\n",
    "    train_imgs.extend(\n",
    "        expand_dims(\n",
    "            train.normalize_embedding_maps(\n",
    "                train.get_embedding_maps(                   \n",
    "                    train.apply_transformations(image),\n",
    "                    extraction.Extraction().extract_key_from_pil_image(image)\n",
    "                )\n",
    "            ), axis=3\n",
    "        )\n",
    "    )"
   ]
  },
  {
   "cell_type": "code",
   "execution_count": 12,
   "metadata": {},
   "outputs": [],
   "source": [
    "train_imgs = array(train_imgs)"
   ]
  },
  {
   "cell_type": "code",
   "execution_count": 13,
   "metadata": {},
   "outputs": [
    {
     "data": {
      "text/plain": [
       "(960, 64, 64, 1)"
      ]
     },
     "execution_count": 13,
     "metadata": {},
     "output_type": "execute_result"
    }
   ],
   "source": [
    "train_imgs.shape"
   ]
  },
  {
   "cell_type": "code",
   "execution_count": 14,
   "metadata": {},
   "outputs": [],
   "source": [
    "train_label = create_train_label(attacked_watermarks, train_imgs.shape[0])"
   ]
  },
  {
   "cell_type": "markdown",
   "metadata": {},
   "source": [
    "<h3>Model</h3>"
   ]
  },
  {
   "cell_type": "code",
   "execution_count": null,
   "metadata": {},
   "outputs": [],
   "source": [
    "def compute_nc(inputs):\n",
    "    labels = inputs[0]\n",
    "    preds = inputs[1]\n",
    "    \n",
    "    summed = []\n",
    "    for i, pred in enumerate(preds):\n",
    "        summed.append(\n",
    "            extraction.Extraction.normalized_correlation_coef(\n",
    "                labels[i], pred\n",
    "            )\n",
    "        )\n",
    "    print('\\n', summed)\n",
    "    return mean(summed, axis=0)\n",
    "\n",
    "@tf.function \n",
    "def tf_function(input): \n",
    "    return tf.numpy_function(compute_nc, [input], tf.float32) \n",
    "\n",
    "class normalized_correlation_coef(tf.keras.metrics.Metric):\n",
    "    def __init__(self, name=\"normalized correlation\", **kwargs):\n",
    "        super(normalized_correlation_coef, self).__init__(name=name, **kwargs)\n",
    "        self.true_positives = 0\n",
    "\n",
    "    def update_state(self, y_true, y_pred, sample_weight=None):\n",
    "        self.true_positives = tf_function([y_true, y_pred])\n",
    "\n",
    "    def result(self):\n",
    "        return self.true_positives\n",
    "\n",
    "    def reset_states(self):\n",
    "        # The state of the metric will be reset at the start of each epoch.\n",
    "        self.true_positives = 0.0"
   ]
  },
  {
   "cell_type": "code",
   "execution_count": 15,
   "metadata": {},
   "outputs": [],
   "source": [
    "model = tf.keras.Sequential([\n",
    "    # encoder\n",
    "    tf.keras.layers.Conv2D(\n",
    "        8, 7, input_shape=(64, 64, 1), activation='relu', padding = 'same', kernel_initializer = 'random_normal', use_bias=False\n",
    "    ),\n",
    "    tf.keras.layers.Conv2D(\n",
    "        8, 7, activation='relu', padding = 'same', kernel_initializer = 'random_normal', use_bias=False\n",
    "    ),\n",
    "#     tf.keras.layers.BatchNormalization(),\n",
    "    tf.keras.layers.MaxPool2D(),\n",
    "    # decoder\n",
    "    tf.keras.layers.UpSampling2D(),\n",
    "    tf.keras.layers.Conv2D(\n",
    "        1, 7, activation='relu', padding = 'same', kernel_initializer = 'random_normal', use_bias=False\n",
    "    ),\n",
    "    tf.keras.layers.Conv2D(\n",
    "        1, 7, activation='relu', padding = 'same', kernel_initializer = 'random_normal', use_bias=False\n",
    "    ),\n",
    "#     tf.keras.layers.BatchNormalization(),\n",
    "    tf.keras.layers.Conv2D(\n",
    "        2, 7, activation = 'softmax', padding= 'same', kernel_initializer = 'random_normal', use_bias=False\n",
    "    )\n",
    "])\n",
    "\n",
    "model.compile(\n",
    "    optimizer = tf.keras.optimizers.SGD(learning_rate=0.01),\n",
    "    loss = 'categorical_crossentropy',\n",
    "    metrics = ['accuracy']\n",
    ")"
   ]
  },
  {
   "cell_type": "code",
   "execution_count": 16,
   "metadata": {},
   "outputs": [
    {
     "name": "stdout",
     "output_type": "stream",
     "text": [
      "Model: \"sequential\"\n",
      "_________________________________________________________________\n",
      "Layer (type)                 Output Shape              Param #   \n",
      "=================================================================\n",
      "conv2d (Conv2D)              (None, 64, 64, 8)         392       \n",
      "_________________________________________________________________\n",
      "conv2d_1 (Conv2D)            (None, 64, 64, 8)         3136      \n",
      "_________________________________________________________________\n",
      "max_pooling2d (MaxPooling2D) (None, 32, 32, 8)         0         \n",
      "_________________________________________________________________\n",
      "up_sampling2d (UpSampling2D) (None, 64, 64, 8)         0         \n",
      "_________________________________________________________________\n",
      "conv2d_2 (Conv2D)            (None, 64, 64, 1)         392       \n",
      "_________________________________________________________________\n",
      "conv2d_3 (Conv2D)            (None, 64, 64, 1)         49        \n",
      "_________________________________________________________________\n",
      "conv2d_4 (Conv2D)            (None, 64, 64, 2)         98        \n",
      "=================================================================\n",
      "Total params: 4,067\n",
      "Trainable params: 4,067\n",
      "Non-trainable params: 0\n",
      "_________________________________________________________________\n"
     ]
    }
   ],
   "source": [
    "model.summary()"
   ]
  },
  {
   "cell_type": "code",
   "execution_count": 17,
   "metadata": {},
   "outputs": [],
   "source": [
    "history = model.fit(\n",
    "    train_imgs,\n",
    "    train_label,\n",
    "    epochs=100,\n",
    "    batch_size=24,\n",
    "    verbose=0\n",
    ")"
   ]
  },
  {
   "cell_type": "code",
   "execution_count": 18,
   "metadata": {},
   "outputs": [
    {
     "data": {
      "text/plain": [
       "[0.5428665280342102,\n",
       " 0.6634287238121033,\n",
       " 0.6946736574172974,\n",
       " 0.6839945316314697,\n",
       " 0.7067098021507263,\n",
       " 0.7014803290367126,\n",
       " 0.7156936526298523,\n",
       " 0.714441180229187,\n",
       " 0.724029004573822,\n",
       " 0.7238283753395081,\n",
       " 0.7328852415084839,\n",
       " 0.7313776612281799,\n",
       " 0.7331336736679077,\n",
       " 0.7392603754997253,\n",
       " 0.7365443110466003,\n",
       " 0.7427161931991577,\n",
       " 0.7424555420875549,\n",
       " 0.7454500794410706,\n",
       " 0.7452547550201416,\n",
       " 0.7474851012229919,\n",
       " 0.7485128045082092,\n",
       " 0.7518582940101624,\n",
       " 0.7529919743537903,\n",
       " 0.7553126215934753,\n",
       " 0.7560099363327026,\n",
       " 0.7576871514320374,\n",
       " 0.7591890692710876,\n",
       " 0.758391797542572,\n",
       " 0.7636772394180298,\n",
       " 0.7638389468193054,\n",
       " 0.7631917595863342,\n",
       " 0.7671157717704773,\n",
       " 0.7675519585609436,\n",
       " 0.7691774964332581,\n",
       " 0.771320104598999,\n",
       " 0.771057665348053,\n",
       " 0.7714144587516785,\n",
       " 0.7730705142021179,\n",
       " 0.7747166752815247,\n",
       " 0.7761512994766235,\n",
       " 0.7763455510139465,\n",
       " 0.7787986993789673,\n",
       " 0.7782061100006104,\n",
       " 0.7794542908668518,\n",
       " 0.781134307384491,\n",
       " 0.7787579894065857,\n",
       " 0.7837560176849365,\n",
       " 0.7839006781578064,\n",
       " 0.7821032404899597,\n",
       " 0.7852770686149597,\n",
       " 0.7850189208984375,\n",
       " 0.7854527831077576,\n",
       " 0.7868843078613281,\n",
       " 0.7874354124069214,\n",
       " 0.788024365901947,\n",
       " 0.7896220088005066,\n",
       " 0.7899762392044067,\n",
       " 0.7894150018692017,\n",
       " 0.7906341552734375,\n",
       " 0.792266309261322,\n",
       " 0.7920364141464233,\n",
       " 0.7911946773529053,\n",
       " 0.7914316654205322,\n",
       " 0.7943504452705383,\n",
       " 0.7952743768692017,\n",
       " 0.7927151918411255,\n",
       " 0.7956143617630005,\n",
       " 0.7960192561149597,\n",
       " 0.7965776920318604,\n",
       " 0.7962809205055237,\n",
       " 0.7969233393669128,\n",
       " 0.7967097163200378,\n",
       " 0.7959917783737183,\n",
       " 0.7965161800384521,\n",
       " 0.797632098197937,\n",
       " 0.8002805113792419,\n",
       " 0.8002067804336548,\n",
       " 0.7996711730957031,\n",
       " 0.7995201349258423,\n",
       " 0.8015086054801941,\n",
       " 0.8012654781341553,\n",
       " 0.8025810122489929,\n",
       " 0.8034009337425232,\n",
       " 0.8011578917503357,\n",
       " 0.8015118837356567,\n",
       " 0.8008832335472107,\n",
       " 0.8026191592216492,\n",
       " 0.8018786311149597,\n",
       " 0.8020538091659546,\n",
       " 0.8038602471351624,\n",
       " 0.805364727973938,\n",
       " 0.8045031428337097,\n",
       " 0.8058817386627197,\n",
       " 0.8038912415504456,\n",
       " 0.8062057495117188,\n",
       " 0.8060844540596008,\n",
       " 0.8074579834938049,\n",
       " 0.8056586980819702,\n",
       " 0.8078442811965942,\n",
       " 0.8073969483375549]"
      ]
     },
     "execution_count": 18,
     "metadata": {},
     "output_type": "execute_result"
    }
   ],
   "source": [
    "history.history['accuracy']"
   ]
  },
  {
   "cell_type": "code",
   "execution_count": 19,
   "metadata": {},
   "outputs": [],
   "source": [
    "image = open(\"static/training/bird.tif\")"
   ]
  },
  {
   "cell_type": "code",
   "execution_count": 20,
   "metadata": {},
   "outputs": [],
   "source": [
    "ext = extraction.Extraction()"
   ]
  },
  {
   "cell_type": "code",
   "execution_count": 21,
   "metadata": {},
   "outputs": [],
   "source": [
    "key = ext.extract_key_from_pil_image(image)"
   ]
  },
  {
   "cell_type": "code",
   "execution_count": 22,
   "metadata": {},
   "outputs": [],
   "source": [
    "em = expand_dims(ext.get_embedding_map(process.Process.pil_to_open_cv(image), key), axis=2)"
   ]
  },
  {
   "cell_type": "code",
   "execution_count": 23,
   "metadata": {},
   "outputs": [],
   "source": [
    "result = model.predict(expand_dims(em, axis=0))"
   ]
  },
  {
   "cell_type": "code",
   "execution_count": 24,
   "metadata": {},
   "outputs": [],
   "source": [
    "classified = []\n",
    "for row in result[0]:\n",
    "    new_row = []\n",
    "    for _px in row:\n",
    "        new_row.append(\n",
    "            255 if _px[0] > _px[1] else 0\n",
    "        )\n",
    "    classified.append(new_row)"
   ]
  },
  {
   "cell_type": "code",
   "execution_count": 25,
   "metadata": {},
   "outputs": [],
   "source": [
    "from matplotlib.pyplot import imshow"
   ]
  },
  {
   "cell_type": "code",
   "execution_count": 26,
   "metadata": {},
   "outputs": [
    {
     "data": {
      "text/plain": [
       "<matplotlib.image.AxesImage at 0x1db0486e520>"
      ]
     },
     "execution_count": 26,
     "metadata": {},
     "output_type": "execute_result"
    },
    {
     "data": {
      "image/png": "[encoded data removed]",
      "text/plain": [
       "<Figure size 432x288 with 1 Axes>"
      ]
     },
     "metadata": {
      "needs_background": "light"
     },
     "output_type": "display_data"
    }
   ],
   "source": [
    "imshow(classified, cmap='gray')"
   ]
  },
  {
   "cell_type": "code",
   "execution_count": 27,
   "metadata": {},
   "outputs": [
    {
     "data": {
      "text/plain": [
       "0.8775974676041001"
      ]
     },
     "execution_count": 27,
     "metadata": {},
     "output_type": "execute_result"
    }
   ],
   "source": [
    "extraction.Extraction.normalized_correlation_coef(classified, watermark)"
   ]
  },
  {
   "cell_type": "code",
   "execution_count": 28,
   "metadata": {},
   "outputs": [],
   "source": [
    "layer_dict = dict([(layer.name, layer) for layer in model.layers])"
   ]
  },
  {
   "cell_type": "code",
   "execution_count": 29,
   "metadata": {},
   "outputs": [
    {
     "data": {
      "text/plain": [
       "{'conv2d': <tensorflow.python.keras.layers.convolutional.Conv2D at 0x1db770f72e0>,\n",
       " 'conv2d_1': <tensorflow.python.keras.layers.convolutional.Conv2D at 0x1db75605940>,\n",
       " 'max_pooling2d': <tensorflow.python.keras.layers.pooling.MaxPooling2D at 0x1db75605df0>,\n",
       " 'up_sampling2d': <tensorflow.python.keras.layers.convolutional.UpSampling2D at 0x1db75605ee0>,\n",
       " 'conv2d_2': <tensorflow.python.keras.layers.convolutional.Conv2D at 0x1db76f25220>,\n",
       " 'conv2d_3': <tensorflow.python.keras.layers.convolutional.Conv2D at 0x1db76f256d0>,\n",
       " 'conv2d_4': <tensorflow.python.keras.layers.convolutional.Conv2D at 0x1db76f25b50>}"
      ]
     },
     "execution_count": 29,
     "metadata": {},
     "output_type": "execute_result"
    }
   ],
   "source": [
    "layer_dict"
   ]
  },
  {
   "cell_type": "markdown",
   "metadata": {},
   "source": [
    "<h3>Change Weight Shape</h3>"
   ]
  },
  {
   "cell_type": "code",
   "execution_count": 86,
   "metadata": {},
   "outputs": [],
   "source": [
    "weight = layer_dict['conv2d_4'].weights"
   ]
  },
  {
   "cell_type": "code",
   "execution_count": 87,
   "metadata": {},
   "outputs": [],
   "source": [
    "weight = weight[0].numpy()"
   ]
  },
  {
   "cell_type": "code",
   "execution_count": 88,
   "metadata": {},
   "outputs": [
    {
     "data": {
      "text/plain": [
       "(7, 7, 1, 2)"
      ]
     },
     "execution_count": 88,
     "metadata": {},
     "output_type": "execute_result"
    }
   ],
   "source": [
    "weight.shape"
   ]
  },
  {
   "cell_type": "code",
   "execution_count": 89,
   "metadata": {},
   "outputs": [
    {
     "data": {
      "text/plain": [
       "array([[[[ 0.16667558, -0.06492028]],\n",
       "\n",
       "        [[-0.00948727, -0.04323376]],\n",
       "\n",
       "        [[-0.00360117, -0.01105739]],\n",
       "\n",
       "        [[ 0.0677385 , -0.02380007]],\n",
       "\n",
       "        [[ 0.05931535, -0.06758911]],\n",
       "\n",
       "        [[ 0.03562168,  0.0125448 ]],\n",
       "\n",
       "        [[ 0.01866768, -0.02216517]]],\n",
       "\n",
       "\n",
       "       [[[ 0.05082073, -0.03563641]],\n",
       "\n",
       "        [[-0.04841435,  0.04859838]],\n",
       "\n",
       "        [[-0.04437268,  0.01844043]],\n",
       "\n",
       "        [[-0.02433467,  0.09040938]],\n",
       "\n",
       "        [[ 0.03364938,  0.08507767]],\n",
       "\n",
       "        [[-0.06487942,  0.05534901]],\n",
       "\n",
       "        [[-0.09960774,  0.07120173]]],\n",
       "\n",
       "\n",
       "       [[[ 0.06109047, -0.02329543]],\n",
       "\n",
       "        [[-0.02063063, -0.03610097]],\n",
       "\n",
       "        [[-0.01111494,  0.00374368]],\n",
       "\n",
       "        [[-0.03641557,  0.03624343]],\n",
       "\n",
       "        [[-0.0042305 , -0.00965132]],\n",
       "\n",
       "        [[ 0.00252997,  0.05119012]],\n",
       "\n",
       "        [[-0.12014755,  0.12947462]]],\n",
       "\n",
       "\n",
       "       [[[ 0.01617598, -0.07287698]],\n",
       "\n",
       "        [[ 0.02167678,  0.04921418]],\n",
       "\n",
       "        [[-0.09161509, -0.03317524]],\n",
       "\n",
       "        [[-0.04317078,  0.10443063]],\n",
       "\n",
       "        [[-0.11431091,  0.01168326]],\n",
       "\n",
       "        [[-0.02218652,  0.06345823]],\n",
       "\n",
       "        [[-0.07317942,  0.10800921]]],\n",
       "\n",
       "\n",
       "       [[[ 0.05310882, -0.09973829]],\n",
       "\n",
       "        [[ 0.0014455 ,  0.06957741]],\n",
       "\n",
       "        [[-0.02297575,  0.01851835]],\n",
       "\n",
       "        [[-0.07553186,  0.04670496]],\n",
       "\n",
       "        [[ 0.00546801,  0.07724608]],\n",
       "\n",
       "        [[-0.05050853,  0.05154409]],\n",
       "\n",
       "        [[-0.1155769 ,  0.07134371]]],\n",
       "\n",
       "\n",
       "       [[[ 0.05124336, -0.05833729]],\n",
       "\n",
       "        [[-0.07867728, -0.00969899]],\n",
       "\n",
       "        [[-0.07718304, -0.0021766 ]],\n",
       "\n",
       "        [[-0.00838374,  0.07454877]],\n",
       "\n",
       "        [[-0.06002127, -0.02980711]],\n",
       "\n",
       "        [[-0.04693837, -0.00799724]],\n",
       "\n",
       "        [[-0.06600264,  0.03522492]]],\n",
       "\n",
       "\n",
       "       [[[ 0.12327275, -0.16474234]],\n",
       "\n",
       "        [[ 0.07547578, -0.01146568]],\n",
       "\n",
       "        [[-0.00898989, -0.09127045]],\n",
       "\n",
       "        [[ 0.03515209, -0.12199184]],\n",
       "\n",
       "        [[ 0.06658696, -0.1171454 ]],\n",
       "\n",
       "        [[-0.01766682, -0.09384751]],\n",
       "\n",
       "        [[ 0.0969586 , -0.02379504]]]], dtype=float32)"
      ]
     },
     "execution_count": 89,
     "metadata": {},
     "output_type": "execute_result"
    }
   ],
   "source": [
    "weight"
   ]
  },
  {
   "cell_type": "code",
   "execution_count": 90,
   "metadata": {},
   "outputs": [],
   "source": [
    "def reverse_shape(weight):\n",
    "    ch_number = weight.shape[3]\n",
    "    input_number = weight.shape[2]\n",
    "    new_weight = []\n",
    "    for i in range(ch_number):\n",
    "        new_channel = []\n",
    "        for j in range(input_number):\n",
    "            new_input = []\n",
    "            for row in weight:\n",
    "                new_row = []\n",
    "                for _px in row:\n",
    "                    new_row.append(_px[j][i])\n",
    "                new_input.append(new_row)\n",
    "            new_channel.append(new_input)\n",
    "        new_weight.append(new_channel)\n",
    "    return new_weight"
   ]
  },
  {
   "cell_type": "code",
   "execution_count": 91,
   "metadata": {},
   "outputs": [],
   "source": [
    "reversed_weight = array(reverse_shape(weight))"
   ]
  },
  {
   "cell_type": "code",
   "execution_count": 92,
   "metadata": {},
   "outputs": [],
   "source": [
    "def create_param_dict(weight, prefix):\n",
    "    param = {}\n",
    "    for i, channel in enumerate(weight):\n",
    "        for j, matrix in enumerate(channel):\n",
    "            param[prefix + '-' + str(i) + '-' + str(j)] = matrix\n",
    "    return param"
   ]
  },
  {
   "cell_type": "code",
   "execution_count": 83,
   "metadata": {},
   "outputs": [],
   "source": [
    "param_dict = create_param_dict(reversed_weight, 'dec0-0')"
   ]
  },
  {
   "cell_type": "code",
   "execution_count": 97,
   "metadata": {},
   "outputs": [],
   "source": [
    "reversed_weight = reversed_weight.reshape((2,7,7))\n",
    "param_dict = {\n",
    "    'softmax-fg': reversed_weight[1],\n",
    "    'softmax-bg': reversed_weight[0]\n",
    "}"
   ]
  },
  {
   "cell_type": "code",
   "execution_count": 98,
   "metadata": {},
   "outputs": [
    {
     "data": {
      "text/plain": [
       "{'softmax-fg': array([[-0.06492028, -0.04323376, -0.01105739, -0.02380007, -0.06758911,\n",
       "          0.0125448 , -0.02216517],\n",
       "        [-0.03563641,  0.04859838,  0.01844043,  0.09040938,  0.08507767,\n",
       "          0.05534901,  0.07120173],\n",
       "        [-0.02329543, -0.03610097,  0.00374368,  0.03624343, -0.00965132,\n",
       "          0.05119012,  0.12947462],\n",
       "        [-0.07287698,  0.04921418, -0.03317524,  0.10443063,  0.01168326,\n",
       "          0.06345823,  0.10800921],\n",
       "        [-0.09973829,  0.06957741,  0.01851835,  0.04670496,  0.07724608,\n",
       "          0.05154409,  0.07134371],\n",
       "        [-0.05833729, -0.00969899, -0.0021766 ,  0.07454877, -0.02980711,\n",
       "         -0.00799724,  0.03522492],\n",
       "        [-0.16474234, -0.01146568, -0.09127045, -0.12199184, -0.1171454 ,\n",
       "         -0.09384751, -0.02379504]], dtype=float32),\n",
       " 'softmax-bg': array([[ 0.16667558, -0.00948727, -0.00360117,  0.0677385 ,  0.05931535,\n",
       "          0.03562168,  0.01866768],\n",
       "        [ 0.05082073, -0.04841435, -0.04437268, -0.02433467,  0.03364938,\n",
       "         -0.06487942, -0.09960774],\n",
       "        [ 0.06109047, -0.02063063, -0.01111494, -0.03641557, -0.0042305 ,\n",
       "          0.00252997, -0.12014755],\n",
       "        [ 0.01617598,  0.02167678, -0.09161509, -0.04317078, -0.11431091,\n",
       "         -0.02218652, -0.07317942],\n",
       "        [ 0.05310882,  0.0014455 , -0.02297575, -0.07553186,  0.00546801,\n",
       "         -0.05050853, -0.1155769 ],\n",
       "        [ 0.05124336, -0.07867728, -0.07718304, -0.00838374, -0.06002127,\n",
       "         -0.04693837, -0.06600264],\n",
       "        [ 0.12327275,  0.07547578, -0.00898989,  0.03515209,  0.06658696,\n",
       "         -0.01766682,  0.0969586 ]], dtype=float32)}"
      ]
     },
     "execution_count": 98,
     "metadata": {},
     "output_type": "execute_result"
    }
   ],
   "source": [
    "param_dict"
   ]
  },
  {
   "cell_type": "code",
   "execution_count": 99,
   "metadata": {},
   "outputs": [],
   "source": [
    "cnn.CNN.store_param(param_dict)"
   ]
  },
  {
   "cell_type": "markdown",
   "metadata": {},
   "source": [
    "<h3>Get Visualization Model</h3>"
   ]
  },
  {
   "cell_type": "code",
   "execution_count": 100,
   "metadata": {},
   "outputs": [],
   "source": [
    "outputs = [layer.output for layer in model.layers[1:]]"
   ]
  },
  {
   "cell_type": "code",
   "execution_count": 101,
   "metadata": {},
   "outputs": [],
   "source": [
    "visualization_model = tf.keras.models.Model(inputs = model.input, outputs = outputs)"
   ]
  },
  {
   "cell_type": "code",
   "execution_count": 102,
   "metadata": {},
   "outputs": [],
   "source": [
    "feature_maps = visualization_model.predict(array([train_imgs[0]]))"
   ]
  },
  {
   "cell_type": "code",
   "execution_count": 218,
   "metadata": {},
   "outputs": [
    {
     "data": {
      "text/plain": [
       "<matplotlib.image.AxesImage at 0x1db056fdb20>"
      ]
     },
     "execution_count": 218,
     "metadata": {},
     "output_type": "execute_result"
    },
    {
     "data": {
      "image/png": "[encoded data removed]",
      "text/plain": [
       "<Figure size 432x288 with 1 Axes>"
      ]
     },
     "metadata": {
      "needs_background": "light"
     },
     "output_type": "display_data"
    }
   ],
   "source": [
    "imshow(array(train_imgs[0]).reshape((64, 64)))"
   ]
  },
  {
   "cell_type": "code",
   "execution_count": 128,
   "metadata": {},
   "outputs": [],
   "source": [
    "def reverse_shape_fm(feature_map):\n",
    "    ch_number = feature_map.shape[2]\n",
    "    new_fm = []\n",
    "    for i in range(ch_number):\n",
    "        new_channel = []\n",
    "        for row in feature_map:\n",
    "            new_row = []\n",
    "            for _px in row:\n",
    "                new_row.append(_px[i])\n",
    "            new_channel.append(new_row)\n",
    "        new_fm.append(new_channel)\n",
    "    return new_fm"
   ]
  },
  {
   "cell_type": "code",
   "execution_count": 158,
   "metadata": {},
   "outputs": [
    {
     "data": {
      "text/plain": [
       "(1, 64, 64, 2)"
      ]
     },
     "execution_count": 158,
     "metadata": {},
     "output_type": "execute_result"
    }
   ],
   "source": [
    "array(feature_maps[5]).shape"
   ]
  },
  {
   "cell_type": "code",
   "execution_count": 213,
   "metadata": {},
   "outputs": [],
   "source": [
    "reversed_fm = reverse_shape_fm(feature_maps[0][0])"
   ]
  },
  {
   "cell_type": "code",
   "execution_count": 214,
   "metadata": {},
   "outputs": [],
   "source": [
    "from matplotlib.pyplot import figure"
   ]
  },
  {
   "cell_type": "code",
   "execution_count": 215,
   "metadata": {
    "scrolled": true
   },
   "outputs": [
    {
     "data": {
      "text/plain": [
       "(8, 64, 64)"
      ]
     },
     "execution_count": 215,
     "metadata": {},
     "output_type": "execute_result"
    }
   ],
   "source": [
    "array(reversed_fm).shape"
   ]
  },
  {
   "cell_type": "code",
   "execution_count": 219,
   "metadata": {},
   "outputs": [
    {
     "data": {
      "text/plain": [
       "array([[[ 0.        ,  0.        ,  0.        , ...,  0.        ,\n",
       "          0.        ,  0.        ],\n",
       "        [ 0.        ,  0.        ,  0.        , ...,  0.        ,\n",
       "          0.        ,  0.        ],\n",
       "        [ 0.        ,  0.        ,  0.        , ..., 16.860516  ,\n",
       "         15.789776  , 41.488266  ],\n",
       "        ...,\n",
       "        [ 0.        ,  0.        ,  0.        , ..., 39.503456  ,\n",
       "         26.030247  , 31.683926  ],\n",
       "        [ 0.        ,  0.        ,  0.        , ..., 44.99916   ,\n",
       "         28.992046  , 38.557617  ],\n",
       "        [ 0.        ,  4.322708  ,  0.        , ..., 44.281235  ,\n",
       "         28.990574  , 32.0976    ]],\n",
       "\n",
       "       [[34.381153  , 32.6238    , 24.257019  , ...,  0.        ,\n",
       "          0.        ,  0.        ],\n",
       "        [31.895927  , 25.500015  , 12.908596  , ...,  0.        ,\n",
       "          0.        ,  0.        ],\n",
       "        [28.292439  , 19.206627  ,  6.757166  , ...,  0.        ,\n",
       "          0.        ,  0.        ],\n",
       "        ...,\n",
       "        [ 9.245382  ,  0.        ,  0.        , ...,  0.        ,\n",
       "          0.        ,  0.        ],\n",
       "        [ 0.        ,  0.        ,  0.        , ...,  0.        ,\n",
       "          0.        ,  0.        ],\n",
       "        [ 0.        ,  0.        ,  0.        , ...,  0.        ,\n",
       "          0.        ,  0.        ]],\n",
       "\n",
       "       [[ 0.        ,  3.7475338 , 13.273536  , ...,  0.        ,\n",
       "          0.        ,  0.        ],\n",
       "        [ 0.        ,  7.9351587 , 19.274527  , ...,  0.        ,\n",
       "          0.        ,  0.        ],\n",
       "        [ 0.        ,  6.6300755 , 17.518236  , ...,  0.        ,\n",
       "          0.        ,  0.        ],\n",
       "        ...,\n",
       "        [ 0.        ,  0.        ,  0.        , ...,  0.        ,\n",
       "          0.        ,  0.        ],\n",
       "        [ 0.        ,  0.        ,  0.        , ...,  0.        ,\n",
       "          0.        ,  0.        ],\n",
       "        [ 0.        ,  0.        ,  0.        , ...,  0.        ,\n",
       "          0.        ,  0.        ]],\n",
       "\n",
       "       ...,\n",
       "\n",
       "       [[ 0.        ,  0.        ,  0.        , ..., 55.257668  ,\n",
       "         87.423706  , 40.354595  ],\n",
       "        [ 0.        ,  0.        ,  0.        , ..., 45.462524  ,\n",
       "         77.32062   , 35.041504  ],\n",
       "        [ 0.        ,  0.        ,  0.        , ...,  0.        ,\n",
       "         37.02428   ,  0.        ],\n",
       "        ...,\n",
       "        [ 1.6357288 ,  7.98254   , 21.622267  , ...,  7.4579315 ,\n",
       "          2.4630184 ,  0.        ],\n",
       "        [ 7.814373  , 10.534079  , 11.855551  , ...,  0.        ,\n",
       "          0.        ,  0.        ],\n",
       "        [ 0.49124146,  3.8060493 ,  3.5686731 , ...,  0.        ,\n",
       "          0.        ,  0.        ]],\n",
       "\n",
       "       [[ 0.        ,  0.        ,  0.        , ...,  0.        ,\n",
       "          0.        ,  0.        ],\n",
       "        [ 0.        ,  0.        ,  0.        , ...,  0.        ,\n",
       "          0.        ,  0.        ],\n",
       "        [ 0.        ,  0.        ,  0.        , ..., 37.938744  ,\n",
       "         32.50014   , 18.054928  ],\n",
       "        ...,\n",
       "        [ 0.        ,  0.        ,  0.        , ..., 43.587585  ,\n",
       "         47.94115   , 38.442043  ],\n",
       "        [ 0.        ,  0.        ,  3.8617244 , ..., 64.71157   ,\n",
       "         64.34445   , 47.936134  ],\n",
       "        [ 0.        ,  0.        ,  0.        , ..., 58.6081    ,\n",
       "         54.552692  , 43.926746  ]],\n",
       "\n",
       "       [[ 0.        ,  2.0032444 ,  6.672682  , ..., 26.933971  ,\n",
       "         28.416454  , 28.732735  ],\n",
       "        [ 0.        ,  6.4932885 , 11.590649  , ..., 44.55851   ,\n",
       "         46.610695  , 38.985233  ],\n",
       "        [ 0.        ,  0.        ,  3.0304441 , ...,  0.        ,\n",
       "          9.219822  , 12.199814  ],\n",
       "        ...,\n",
       "        [ 0.35481834,  0.        ,  9.188462  , ...,  0.        ,\n",
       "          0.        ,  0.        ],\n",
       "        [ 0.        ,  0.        ,  0.        , ...,  0.        ,\n",
       "          0.        ,  0.        ],\n",
       "        [ 0.        ,  0.        ,  3.2234573 , ...,  0.        ,\n",
       "          0.        ,  0.        ]]], dtype=float32)"
      ]
     },
     "execution_count": 219,
     "metadata": {},
     "output_type": "execute_result"
    }
   ],
   "source": [
    "array(reversed_fm)"
   ]
  },
  {
   "cell_type": "code",
   "execution_count": 185,
   "metadata": {},
   "outputs": [
    {
     "data": {
      "image/png": "[encoded data removed]",
      "text/plain": [
       "<Figure size 3600x3600 with 8 Axes>"
      ]
     },
     "metadata": {
      "needs_background": "light"
     },
     "output_type": "display_data"
    }
   ],
   "source": [
    "fig = figure(figsize=(50, 50))\n",
    "for i in range(len(reversed_fm)):\n",
    "    sub = fig.add_subplot(2, 16, i + 1)\n",
    "    sub.imshow(reversed_fm[i], interpolation='nearest')"
   ]
  },
  {
   "cell_type": "code",
   "execution_count": 189,
   "metadata": {},
   "outputs": [
    {
     "data": {
      "image/png": "[encoded data removed]",
      "text/plain": [
       "<Figure size 3600x3600 with 8 Axes>"
      ]
     },
     "metadata": {
      "needs_background": "light"
     },
     "output_type": "display_data"
    }
   ],
   "source": [
    "fig = figure(figsize=(50, 50))\n",
    "for i in range(len(reversed_fm)):\n",
    "    sub = fig.add_subplot(2, 16, i + 1)\n",
    "    sub.imshow(reversed_fm[i], interpolation='nearest')"
   ]
  },
  {
   "cell_type": "code",
   "execution_count": 193,
   "metadata": {},
   "outputs": [
    {
     "data": {
      "image/png": "[encoded data removed]",
      "text/plain": [
       "<Figure size 3600x3600 with 8 Axes>"
      ]
     },
     "metadata": {
      "needs_background": "light"
     },
     "output_type": "display_data"
    }
   ],
   "source": [
    "fig = figure(figsize=(50, 50))\n",
    "for i in range(len(reversed_fm)):\n",
    "    sub = fig.add_subplot(2, 16, i + 1)\n",
    "    sub.imshow(reversed_fm[i], interpolation='nearest')"
   ]
  },
  {
   "cell_type": "code",
   "execution_count": 197,
   "metadata": {},
   "outputs": [
    {
     "data": {
      "image/png": "[encoded data removed]",
      "text/plain": [
       "<Figure size 3600x3600 with 1 Axes>"
      ]
     },
     "metadata": {
      "needs_background": "light"
     },
     "output_type": "display_data"
    }
   ],
   "source": [
    "fig = figure(figsize=(50, 50))\n",
    "for i in range(len(reversed_fm)):\n",
    "    sub = fig.add_subplot(2, 16, i + 1)\n",
    "    sub.imshow(reversed_fm[i], interpolation='nearest')"
   ]
  },
  {
   "cell_type": "code",
   "execution_count": 201,
   "metadata": {},
   "outputs": [
    {
     "data": {
      "image/png": "[encoded data removed]",
      "text/plain": [
       "<Figure size 3600x3600 with 1 Axes>"
      ]
     },
     "metadata": {
      "needs_background": "light"
     },
     "output_type": "display_data"
    }
   ],
   "source": [
    "fig = figure(figsize=(50, 50))\n",
    "for i in range(len(reversed_fm)):\n",
    "    sub = fig.add_subplot(2, 16, i + 1)\n",
    "    sub.imshow(reversed_fm[i], interpolation='nearest')"
   ]
  },
  {
   "cell_type": "code",
   "execution_count": 205,
   "metadata": {},
   "outputs": [
    {
     "data": {
      "image/png": "[encoded data removed]",
      "text/plain": [
       "<Figure size 3600x3600 with 2 Axes>"
      ]
     },
     "metadata": {
      "needs_background": "light"
     },
     "output_type": "display_data"
    }
   ],
   "source": [
    "fig = figure(figsize=(50, 50))\n",
    "for i in range(len(reversed_fm)):\n",
    "    sub = fig.add_subplot(2, 16, i + 1)\n",
    "    sub.imshow(reversed_fm[i], interpolation='nearest')"
   ]
  },
  {
   "cell_type": "code",
   "execution_count": 250,
   "metadata": {},
   "outputs": [
    {
     "name": "stdout",
     "output_type": "stream",
     "text": [
      "WARNING:tensorflow:Layer conv2d_18 is casting an input tensor from dtype float64 to the layer's dtype of float32, which is new behavior in TensorFlow 2.  The layer has dtype float32 because it's dtype defaults to floatx.\n",
      "\n",
      "If you intended to run this layer in float32, you can safely ignore this warning. If in doubt, this warning is likely only an issue if you are porting a TensorFlow 1.X model to TensorFlow 2.\n",
      "\n",
      "To change all layers to have dtype float64 by default, call `tf.keras.backend.set_floatx('float64')`. To change just this layer, pass dtype='float64' to the layer constructor. If you are the author of this layer, you can disable autocasting by passing autocast=False to the base Layer constructor.\n",
      "\n"
     ]
    }
   ],
   "source": [
    "a = tf.keras.layers.Conv2D(\n",
    "    8, 7, input_shape=(64, 64, 1), padding = 'same', kernel_initializer=tes, use_bias=False\n",
    ")(array([train_imgs[0]]))"
   ]
  },
  {
   "cell_type": "code",
   "execution_count": 249,
   "metadata": {},
   "outputs": [],
   "source": [
    "def tes(shape, dtype=None):\n",
    "    w = layer_dict['conv2d'].weights[0].numpy()\n",
    "#     w[tuple(map(lambda x: int(np.floor(x/2)), w.shape))]=1\n",
    "    return w"
   ]
  },
  {
   "cell_type": "code",
   "execution_count": 255,
   "metadata": {},
   "outputs": [],
   "source": [
    "a = a.numpy()"
   ]
  },
  {
   "cell_type": "code",
   "execution_count": 260,
   "metadata": {},
   "outputs": [
    {
     "data": {
      "text/plain": [
       "<matplotlib.image.AxesImage at 0x1db04c908e0>"
      ]
     },
     "execution_count": 260,
     "metadata": {},
     "output_type": "execute_result"
    },
    {
     "data": {
      "image/png": "[encoded data removed]",
      "text/plain": [
       "<Figure size 432x288 with 1 Axes>"
      ]
     },
     "metadata": {
      "needs_background": "light"
     },
     "output_type": "display_data"
    }
   ],
   "source": [
    "imshow(reverse_shape_fm(a[0])[3])"
   ]
  },
  {
   "cell_type": "code",
   "execution_count": null,
   "metadata": {},
   "outputs": [],
   "source": [
    "a"
   ]
  }
 ],
 "metadata": {
  "kernelspec": {
   "display_name": "Python 3",
   "language": "python",
   "name": "python3"
  },
  "language_info": {
   "codemirror_mode": {
    "name": "ipython",
    "version": 3
   },
   "file_extension": ".py",
   "mimetype": "text/x-python",
   "name": "python",
   "nbconvert_exporter": "python",
   "pygments_lexer": "ipython3",
   "version": "3.8.2"
  }
 },
 "nbformat": 4,
 "nbformat_minor": 4
}
