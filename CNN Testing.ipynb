{
 "cells": [
  {
   "cell_type": "markdown",
   "metadata": {},
   "source": [
    "<h3>Embedding Map Extraction</h3>"
   ]
  },
  {
   "cell_type": "code",
   "execution_count": 1,
   "metadata": {},
   "outputs": [],
   "source": [
    "import tensorflow as tf"
   ]
  },
  {
   "cell_type": "code",
   "execution_count": 2,
   "metadata": {},
   "outputs": [],
   "source": [
    "from PIL.Image import open\n",
    "from numpy import array, float32, reshape, expand_dims, argmax\n",
    "from numpy.random import rand\n",
    "from watermarking import extraction"
   ]
  },
  {
   "cell_type": "code",
   "execution_count": 3,
   "metadata": {},
   "outputs": [],
   "source": [
    "key = extraction.Extraction.extract_key_from_image_file(\"static/data/watermarked_result.tif\")"
   ]
  },
  {
   "cell_type": "code",
   "execution_count": 4,
   "metadata": {},
   "outputs": [],
   "source": [
    "embedding_map = extraction.Extraction().extract_watermark(\n",
    "    array(open(\"static/data/watermarked_result.tif\"), dtype=float32),\n",
    "    key\n",
    ") # size 64 x 64. Perfect"
   ]
  },
  {
   "cell_type": "code",
   "execution_count": 5,
   "metadata": {},
   "outputs": [],
   "source": [
    "ground_truth = array(open(\"Watermark.tiff\"), dtype=float32)"
   ]
  },
  {
   "cell_type": "code",
   "execution_count": 6,
   "metadata": {
    "scrolled": false
   },
   "outputs": [
    {
     "data": {
      "image/png": "[encoded data removed]",
      "text/plain": [
       "<PIL.TiffImagePlugin.TiffImageFile image mode=1 size=64x64 at 0x20D2ED09748>"
      ]
     },
     "execution_count": 6,
     "metadata": {},
     "output_type": "execute_result"
    }
   ],
   "source": [
    "open(\"Watermark.tiff\")"
   ]
  },
  {
   "cell_type": "code",
   "execution_count": 7,
   "metadata": {},
   "outputs": [],
   "source": [
    "from matplotlib.pyplot import imshow, figure, show"
   ]
  },
  {
   "cell_type": "code",
   "execution_count": 8,
   "metadata": {},
   "outputs": [
    {
     "data": {
      "text/plain": [
       "<matplotlib.image.AxesImage at 0x20d2ff77148>"
      ]
     },
     "execution_count": 8,
     "metadata": {},
     "output_type": "execute_result"
    },
    {
     "data": {
      "image/png": "[encoded data removed]",
      "text/plain": [
       "<Figure size 432x288 with 1 Axes>"
      ]
     },
     "metadata": {
      "needs_background": "light"
     },
     "output_type": "display_data"
    }
   ],
   "source": [
    "imshow(embedding_map)"
   ]
  },
  {
   "cell_type": "markdown",
   "metadata": {},
   "source": [
    "# Checking Convolution"
   ]
  },
  {
   "cell_type": "code",
   "execution_count": 9,
   "metadata": {},
   "outputs": [],
   "source": [
    "from watermarking import training"
   ]
  },
  {
   "cell_type": "code",
   "execution_count": 10,
   "metadata": {
    "scrolled": true
   },
   "outputs": [
    {
     "name": "stdout",
     "output_type": "stream",
     "text": [
      "initializing\n",
      "enc   0  ->  64\n",
      "enc   1  ->  32\n",
      "enc   2  ->  16\n",
      "enc   3  ->  8\n",
      "enc   4  ->  4\n",
      "dec   0  ->  64\n",
      "dec   1  ->  32\n",
      "dec   2  ->  16\n",
      "dec   3  ->  8\n",
      "dec   4  ->  4\n"
     ]
    }
   ],
   "source": [
    "train = training.Training(\n",
    "    [[embedding_map]],\n",
    "    [[ground_truth]]\n",
    ")"
   ]
  },
  {
   "cell_type": "code",
   "execution_count": 11,
   "metadata": {},
   "outputs": [
    {
     "name": "stdout",
     "output_type": "stream",
     "text": [
      "FORWARD\n",
      "encoder\n",
      "BN\n",
      "(64, 64, 64)\n",
      "cache:  (64, 64, 64)  for stack  1\n",
      "ReLU\n",
      "Max pool\n",
      "BN\n",
      "(128, 32, 32)\n",
      "cache:  (128, 32, 32)  for stack  2\n",
      "ReLU\n",
      "Max pool\n",
      "BN\n",
      "(256, 16, 16)\n",
      "cache:  (256, 16, 16)  for stack  3\n",
      "ReLU\n",
      "Max pool\n",
      "BN\n",
      "(512, 8, 8)\n",
      "cache:  (512, 8, 8)  for stack  4\n",
      "ReLU\n",
      "Max pool\n",
      "BN\n",
      "(512, 4, 4)\n",
      "cache:  (512, 4, 4)  for stack  5\n",
      "ReLU\n",
      "Max pool\n",
      "decoder\n",
      "Ups\n",
      "BN\n",
      "(512, 4, 4)\n",
      "cache:  (512, 4, 4)  for stack  6\n",
      "Ups\n",
      "BN\n",
      "(256, 8, 8)\n",
      "cache:  (256, 8, 8)  for stack  7\n",
      "Ups\n",
      "BN\n",
      "(128, 16, 16)\n",
      "cache:  (128, 16, 16)  for stack  8\n",
      "Ups\n",
      "BN\n",
      "(64, 32, 32)\n",
      "cache:  (64, 32, 32)  for stack  9\n",
      "Ups\n",
      "BN\n",
      "(1, 64, 64)\n",
      "cache:  (1, 64, 64)  for stack  10\n",
      "BACKWARD\n",
      "Decoder\n",
      "Deriv Cross Entropy\n",
      "shape:  (1, 1, 64, 64)\n",
      "Deriv Softmax\n",
      "shape:  (1, 1, 64, 64)\n",
      "shape:  (1, 2, 64, 64)\n",
      "current stack:  0\n",
      "Deriv BN update weight\n",
      "taking bn cache on  10\n",
      "normalized shape:  (1, 64, 64)\n",
      "derivative scale shift shape:  (1, 2, 64, 64)  and  (1, 64, 64)  resulting gamma grad  (2, 64, 64)\n",
      "error shape:  (2, 64, 64)\n",
      "Deriv BN\n",
      "shape:  (1, 2, 64, 64)\n",
      "Deriv Conv\n",
      "weight grad:  (2, 7, 7)\n",
      "weight grad:  (1, 7, 7)\n",
      "shape:  (1, 1, 64, 64)\n",
      "original structure:  (64, 3)\n",
      "cache:  (1, 64, 32, 32, 2)\n",
      "Deriv Ups\n",
      "shape:  (1, 64, 32, 32)\n",
      "current stack:  1\n",
      "Deriv BN update weight\n",
      "taking bn cache on  9\n",
      "normalized shape:  (64, 32, 32)\n",
      "derivative scale shift shape:  (1, 64, 32, 32)  and  (64, 32, 32)  resulting gamma grad  (64, 32, 32)\n",
      "error shape:  (64, 32, 32)\n",
      "Deriv BN\n",
      "shape:  (1, 64, 32, 32)\n",
      "Deriv Conv\n",
      "weight grad:  (64, 7, 7)\n",
      "weight grad:  (64, 7, 7)\n",
      "shape:  (1, 64, 32, 32)\n",
      "original structure:  (128, 3)\n",
      "cache:  (1, 128, 16, 16, 2)\n",
      "Deriv Ups\n",
      "shape:  (1, 128, 16, 16)\n",
      "current stack:  2\n",
      "Deriv BN update weight\n",
      "taking bn cache on  8\n",
      "normalized shape:  (128, 16, 16)\n",
      "derivative scale shift shape:  (1, 128, 16, 16)  and  (128, 16, 16)  resulting gamma grad  (128, 16, 16)\n",
      "error shape:  (128, 16, 16)\n",
      "Deriv BN\n",
      "shape:  (1, 128, 16, 16)\n",
      "Deriv Conv\n",
      "weight grad:  (128, 7, 7)\n",
      "weight grad:  (128, 7, 7)\n",
      "weight grad:  (128, 7, 7)\n",
      "shape:  (1, 128, 16, 16)\n",
      "original structure:  (256, 3)\n",
      "cache:  (1, 256, 8, 8, 2)\n",
      "Deriv Ups\n",
      "shape:  (1, 256, 8, 8)\n",
      "current stack:  3\n",
      "Deriv BN update weight\n",
      "taking bn cache on  7\n",
      "normalized shape:  (256, 8, 8)\n",
      "derivative scale shift shape:  (1, 256, 8, 8)  and  (256, 8, 8)  resulting gamma grad  (256, 8, 8)\n",
      "error shape:  (256, 8, 8)\n",
      "Deriv BN\n",
      "shape:  (1, 256, 8, 8)\n",
      "Deriv Conv\n",
      "weight grad:  (256, 7, 7)\n",
      "weight grad:  (256, 7, 7)\n",
      "weight grad:  (256, 7, 7)\n",
      "shape:  (1, 256, 8, 8)\n",
      "original structure:  (512, 3)\n",
      "cache:  (1, 512, 4, 4, 2)\n",
      "Deriv Ups\n",
      "shape:  (1, 512, 4, 4)\n",
      "current stack:  4\n",
      "Deriv BN update weight\n",
      "taking bn cache on  6\n",
      "normalized shape:  (512, 4, 4)\n",
      "derivative scale shift shape:  (1, 512, 4, 4)  and  (512, 4, 4)  resulting gamma grad  (512, 4, 4)\n",
      "error shape:  (512, 4, 4)\n",
      "Deriv BN\n",
      "shape:  (1, 512, 4, 4)\n",
      "Deriv Conv\n",
      "weight grad:  (512, 7, 7)\n",
      "weight grad:  (512, 7, 7)\n",
      "weight grad:  (512, 7, 7)\n",
      "shape:  (1, 512, 4, 4)\n",
      "original structure:  (512, 3)\n",
      "cache:  (1, 512, 2, 2, 2)\n",
      "Deriv Ups\n",
      "shape:  (1, 512, 2, 2)\n",
      "Encoder\n",
      "Deriv Max pool\n",
      "original structure:  (512, 3)\n",
      "shape:  (1, 512, 4, 4)\n",
      "Deriv ReLU\n",
      "original structure:  (512, 4, 4)\n",
      "shape:  (1, 512, 4, 4)\n",
      "Deriv BN update weight\n",
      "taking bn cache on  5\n",
      "normalized shape:  (512, 4, 4)\n",
      "derivative scale shift shape:  (1, 512, 4, 4)  and  (512, 4, 4)  resulting gamma grad  (512, 4, 4)\n",
      "error shape:  (512, 4, 4)\n",
      "Deriv BN\n",
      "shape:  (1, 512, 4, 4)\n",
      "Deriv Conv\n",
      "weight grad:  (512, 7, 7)\n",
      "weight grad:  (512, 7, 7)\n",
      "weight grad:  (512, 7, 7)\n",
      "shape:  (1, 512, 4, 4)\n",
      "Deriv Max pool\n",
      "original structure:  (512, 3)\n",
      "shape:  (1, 512, 8, 8)\n",
      "Deriv ReLU\n",
      "original structure:  (512, 8, 8)\n",
      "shape:  (1, 512, 8, 8)\n",
      "Deriv BN update weight\n",
      "taking bn cache on  4\n",
      "normalized shape:  (512, 8, 8)\n",
      "derivative scale shift shape:  (1, 512, 8, 8)  and  (512, 8, 8)  resulting gamma grad  (512, 8, 8)\n",
      "error shape:  (512, 8, 8)\n",
      "Deriv BN\n",
      "shape:  (1, 512, 8, 8)\n",
      "Deriv Conv\n",
      "weight grad:  (512, 7, 7)\n",
      "weight grad:  (512, 7, 7)\n",
      "weight grad:  (512, 7, 7)\n",
      "shape:  (1, 512, 8, 8)\n",
      "Deriv Max pool\n",
      "original structure:  (256, 3)\n",
      "shape:  (1, 256, 16, 16)\n",
      "Deriv ReLU\n",
      "original structure:  (256, 16, 16)\n",
      "shape:  (1, 256, 16, 16)\n",
      "Deriv BN update weight\n",
      "taking bn cache on  3\n",
      "normalized shape:  (256, 16, 16)\n",
      "derivative scale shift shape:  (1, 256, 16, 16)  and  (256, 16, 16)  resulting gamma grad  (256, 16, 16)\n",
      "error shape:  (256, 16, 16)\n",
      "Deriv BN\n",
      "shape:  (1, 256, 16, 16)\n",
      "Deriv Conv\n",
      "weight grad:  (256, 7, 7)\n",
      "weight grad:  (256, 7, 7)\n",
      "weight grad:  (256, 7, 7)\n",
      "shape:  (1, 256, 16, 16)\n",
      "Deriv Max pool\n",
      "original structure:  (128, 3)\n",
      "shape:  (1, 128, 32, 32)\n",
      "Deriv ReLU\n",
      "original structure:  (128, 32, 32)\n",
      "shape:  (1, 128, 32, 32)\n",
      "Deriv BN update weight\n",
      "taking bn cache on  2\n",
      "normalized shape:  (128, 32, 32)\n",
      "derivative scale shift shape:  (1, 128, 32, 32)  and  (128, 32, 32)  resulting gamma grad  (128, 32, 32)\n",
      "error shape:  (128, 32, 32)\n",
      "Deriv BN\n",
      "shape:  (1, 128, 32, 32)\n",
      "Deriv Conv\n",
      "weight grad:  (128, 7, 7)\n",
      "weight grad:  (128, 7, 7)\n",
      "shape:  (1, 128, 32, 32)\n",
      "Deriv Max pool\n",
      "original structure:  (64, 3)\n",
      "shape:  (1, 64, 64, 64)\n",
      "Deriv ReLU\n",
      "original structure:  (64, 64, 64)\n",
      "shape:  (1, 64, 64, 64)\n",
      "Deriv BN update weight\n",
      "taking bn cache on  1\n",
      "normalized shape:  (64, 64, 64)\n",
      "derivative scale shift shape:  (1, 64, 64, 64)  and  (64, 64, 64)  resulting gamma grad  (64, 64, 64)\n",
      "error shape:  (64, 64, 64)\n",
      "Deriv BN\n",
      "shape:  (1, 64, 64, 64)\n",
      "Deriv Conv\n",
      "weight grad:  (64, 7, 7)\n",
      "weight grad:  (64, 7, 7)\n",
      "shape:  (1, 64, 64, 64)\n"
     ]
    }
   ],
   "source": [
    "result, cache, loss = train.run()"
   ]
  },
  {
   "cell_type": "code",
   "execution_count": null,
   "metadata": {},
   "outputs": [],
   "source": [
    "# print(len(cache[3][0][4]))\n",
    "print(cache[3][0][4][0])"
   ]
  },
  {
   "cell_type": "code",
   "execution_count": null,
   "metadata": {},
   "outputs": [],
   "source": [
    "print(len(result[0][0]))j"
   ]
  },
  {
   "cell_type": "code",
   "execution_count": null,
   "metadata": {},
   "outputs": [],
   "source": [
    "result = array(result)"
   ]
  },
  {
   "cell_type": "code",
   "execution_count": null,
   "metadata": {},
   "outputs": [],
   "source": [
    "ground_truth = expand_dims(ground_truth, axis=0)"
   ]
  },
  {
   "cell_type": "code",
   "execution_count": null,
   "metadata": {},
   "outputs": [],
   "source": [
    "ground_truth.shape"
   ]
  },
  {
   "cell_type": "code",
   "execution_count": null,
   "metadata": {},
   "outputs": [],
   "source": [
    "j = 0\n",
    "fig= figure(figsize=(8, 8))\n",
    "columns = 8\n",
    "rows = 8\n",
    "for i in range(1, columns*rows +1):\n",
    "    fig.add_subplot(rows, columns, i)\n",
    "    imshow(result[0][j])\n",
    "    j += 1\n",
    "show()"
   ]
  },
  {
   "cell_type": "markdown",
   "metadata": {},
   "source": [
    "<h3>(The real) Training</h3>"
   ]
  },
  {
   "cell_type": "code",
   "execution_count": null,
   "metadata": {},
   "outputs": [],
   "source": [
    "train = training.Training(\n",
    "    [embedding_map, embedding_map],\n",
    "    [ground_truth, ground_truth]\n",
    ")"
   ]
  },
  {
   "cell_type": "code",
   "execution_count": null,
   "metadata": {},
   "outputs": [],
   "source": [
    "softmax, loss = train.run()"
   ]
  },
  {
   "cell_type": "code",
   "execution_count": null,
   "metadata": {},
   "outputs": [],
   "source": [
    "print(softmax[3])"
   ]
  },
  {
   "cell_type": "markdown",
   "metadata": {},
   "source": [
    "<h4>Check NC of forward only</h4>"
   ]
  },
  {
   "cell_type": "code",
   "execution_count": null,
   "metadata": {},
   "outputs": [],
   "source": [
    "from copy import deepcopy\n",
    "from watermarking import embedding"
   ]
  },
  {
   "cell_type": "code",
   "execution_count": null,
   "metadata": {},
   "outputs": [],
   "source": [
    "print(embedding.Embedding.normalized_correlation_coef(softmax[0], ground_truth))"
   ]
  },
  {
   "cell_type": "markdown",
   "metadata": {},
   "source": [
    "<h4>Try to classify softmax better</h4>"
   ]
  },
  {
   "cell_type": "code",
   "execution_count": null,
   "metadata": {},
   "outputs": [],
   "source": [
    "classified = []\n",
    "for row in softmax[0]:\n",
    "    new_row = []\n",
    "    for pixel in row:\n",
    "        if pixel > 1:\n",
    "            pixel = 1\n",
    "        elif pixel < 0:\n",
    "            pixel = 0\n",
    "        else:\n",
    "            pixel = round(pixel)\n",
    "        new_row.append(pixel)\n",
    "    classified.append(new_row)"
   ]
  },
  {
   "cell_type": "code",
   "execution_count": null,
   "metadata": {},
   "outputs": [],
   "source": [
    "print(embedding.Embedding.normalized_correlation_coef(classified, ground_truth))"
   ]
  },
  {
   "cell_type": "markdown",
   "metadata": {},
   "source": [
    "<h4>Try displaying the classified result</h4>"
   ]
  },
  {
   "cell_type": "code",
   "execution_count": null,
   "metadata": {},
   "outputs": [],
   "source": [
    "from PIL.Image import fromarray\n",
    "from numpy import uint8"
   ]
  },
  {
   "cell_type": "code",
   "execution_count": null,
   "metadata": {},
   "outputs": [],
   "source": [
    "tes = fromarray(array(classified, dtype=uint8) * 255)"
   ]
  },
  {
   "cell_type": "markdown",
   "metadata": {},
   "source": [
    "<p>...Okay. At least not all of them is black/white :)</p>"
   ]
  },
  {
   "cell_type": "code",
   "execution_count": null,
   "metadata": {},
   "outputs": [],
   "source": [
    "model = tf.keras.Sequential([\n",
    "    tf.keras.layers.Conv2D(64, kernel_size=(7, 7), padding='same', input_shape=(1, 64, 64), activation='relu'),\n",
    "    tf.keras.layers.Conv2D(64, kernel_size=(7, 7), padding='same', activation='relu'),\n",
    "    tf.keras.layers.BatchNormalization(epsilon=0.001),\n",
    "    tf.keras.layers.Conv2D(1, kernel_size=(7, 7), padding='same'),\n",
    "    tf.keras.layers.Conv2D(1, kernel_size=(7, 7), padding='same'),\n",
    "    tf.keras.layers.BatchNormalization(epsilon=0.001),\n",
    "    tf.keras.layers.Activation('softmax')\n",
    "])"
   ]
  },
  {
   "cell_type": "code",
   "execution_count": null,
   "metadata": {},
   "outputs": [],
   "source": [
    "model = tf.keras.Sequential([\n",
    "    tf.keras.layers.Conv2D(1, kernel_size=(3, 3), padding='same', input_shape=(64, 64, 64)),\n",
    "    tf.keras.layers.Conv2D(1, kernel_size=(3, 3), padding='same'),\n",
    "    tf.keras.layers.BatchNormalization(epsilon=0.001),\n",
    "    tf.keras.layers.Conv2D(1, kernel_size=(3, 3), padding='same', activation='softmax')\n",
    "])"
   ]
  },
  {
   "cell_type": "code",
   "execution_count": null,
   "metadata": {},
   "outputs": [],
   "source": [
    "model.compile(loss='binary_crossentropy', optimizer=tf.keras.optimizers.SGD(lr=0.01))"
   ]
  },
  {
   "cell_type": "code",
   "execution_count": null,
   "metadata": {},
   "outputs": [],
   "source": [
    "model.fit(\n",
    "    x=result,\n",
    "    y=ground_truth,\n",
    "    epochs=1,\n",
    "    verbose=1\n",
    ")"
   ]
  },
  {
   "cell_type": "code",
   "execution_count": null,
   "metadata": {},
   "outputs": [],
   "source": [
    "output = model.predict_proba(expand_dims(rand(64, 64, 64), axis=0))"
   ]
  },
  {
   "cell_type": "code",
   "execution_count": null,
   "metadata": {},
   "outputs": [],
   "source": [
    "output = output.reshape((64, 64))"
   ]
  },
  {
   "cell_type": "code",
   "execution_count": null,
   "metadata": {},
   "outputs": [],
   "source": [
    "imshow(output)"
   ]
  },
  {
   "cell_type": "code",
   "execution_count": null,
   "metadata": {},
   "outputs": [],
   "source": [
    "normalized = []\n",
    "for row in result[0][0]:\n",
    "    new_row = []\n",
    "    for px in row:\n",
    "        if px < 0 or px > 1 - px:\n",
    "            new_row.append(0)\n",
    "        else:\n",
    "            new_row.append(1)\n",
    "    normalized.append(new_row)"
   ]
  },
  {
   "cell_type": "code",
   "execution_count": null,
   "metadata": {},
   "outputs": [],
   "source": [
    "imshow(array(normalized))"
   ]
  },
  {
   "cell_type": "code",
   "execution_count": null,
   "metadata": {},
   "outputs": [],
   "source": []
  }
 ],
 "metadata": {
  "kernelspec": {
   "display_name": "Python 3",
   "language": "python",
   "name": "python3"
  },
  "language_info": {
   "codemirror_mode": {
    "name": "ipython",
    "version": 3
   },
   "file_extension": ".py",
   "mimetype": "text/x-python",
   "name": "python",
   "nbconvert_exporter": "python",
   "pygments_lexer": "ipython3",
   "version": "3.7.4"
  }
 },
 "nbformat": 4,
 "nbformat_minor": 2
}
