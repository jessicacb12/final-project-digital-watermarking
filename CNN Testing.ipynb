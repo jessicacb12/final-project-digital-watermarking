{
 "cells": [
  {
   "cell_type": "markdown",
   "metadata": {},
   "source": [
    "<h3>Embedding Map Extraction</h3>"
   ]
  },
  {
   "cell_type": "markdown",
   "metadata": {},
   "source": [
    "import tensorflow as tf"
   ]
  },
  {
   "cell_type": "code",
   "execution_count": 1,
   "metadata": {},
   "outputs": [
    {
     "name": "stdout",
     "output_type": "stream",
     "text": [
      "Wall time: 650 ms\n"
     ]
    }
   ],
   "source": [
    "%%time\n",
    "from PIL.Image import open\n",
    "from numpy import array, float32, reshape, expand_dims, argmax\n",
    "from numpy.random import rand\n",
    "from watermarking import extraction, cnn"
   ]
  },
  {
   "cell_type": "code",
   "execution_count": 2,
   "metadata": {},
   "outputs": [],
   "source": [
    "import numpy as np"
   ]
  },
  {
   "cell_type": "code",
   "execution_count": 3,
   "metadata": {},
   "outputs": [],
   "source": [
    "ground_truth = array(open(\"Watermark.tiff\"), dtype=float32)"
   ]
  },
  {
   "cell_type": "code",
   "execution_count": 4,
   "metadata": {},
   "outputs": [],
   "source": [
    "import matplotlib.pyplot as plt"
   ]
  },
  {
   "cell_type": "markdown",
   "metadata": {},
   "source": [
    "## Convolution Testing"
   ]
  },
  {
   "cell_type": "code",
   "execution_count": 5,
   "metadata": {},
   "outputs": [],
   "source": [
    "from watermarking import extraction, process, forward, cnn, attacks"
   ]
  },
  {
   "cell_type": "code",
   "execution_count": 6,
   "metadata": {},
   "outputs": [],
   "source": [
    "image = open(\"static/training/airplane.tif\")"
   ]
  },
  {
   "cell_type": "code",
   "execution_count": 7,
   "metadata": {},
   "outputs": [],
   "source": [
    "attacked = attacks.Attacks(process.Process.pil_to_open_cv(image)).do_transformation(attacks.Attacks.MEDIAN_BLUR, 5)\n",
    "attacked2 = attacks.Attacks(process.Process.pil_to_open_cv(image)).do_transformation(attacks.Attacks.GAUSSIAN_BLUR, 3)"
   ]
  },
  {
   "cell_type": "code",
   "execution_count": 8,
   "metadata": {},
   "outputs": [],
   "source": [
    "ext = extraction.Extraction()"
   ]
  },
  {
   "cell_type": "code",
   "execution_count": 9,
   "metadata": {},
   "outputs": [],
   "source": [
    "key = ext.extract_key_from_pil_image(image)"
   ]
  },
  {
   "cell_type": "code",
   "execution_count": 10,
   "metadata": {
    "scrolled": true
   },
   "outputs": [],
   "source": [
    "result = ext.get_embedding_map(process.Process.pil_to_open_cv(image), key)"
   ]
  },
  {
   "cell_type": "code",
   "execution_count": 11,
   "metadata": {},
   "outputs": [
    {
     "data": {
      "text/plain": [
       "219.00000000000003"
      ]
     },
     "execution_count": 11,
     "metadata": {},
     "output_type": "execute_result"
    }
   ],
   "source": [
    "array(result).max()"
   ]
  },
  {
   "cell_type": "code",
   "execution_count": 12,
   "metadata": {},
   "outputs": [
    {
     "data": {
      "text/plain": [
       "<matplotlib.image.AxesImage at 0x296f4be7550>"
      ]
     },
     "execution_count": 12,
     "metadata": {},
     "output_type": "execute_result"
    },
    {
     "data": {
      "image/png": "[encoded data removed]",
      "text/plain": [
       "<Figure size 432x288 with 1 Axes>"
      ]
     },
     "metadata": {
      "needs_background": "light"
     },
     "output_type": "display_data"
    }
   ],
   "source": [
    "plt.imshow(result)"
   ]
  },
  {
   "cell_type": "code",
   "execution_count": 13,
   "metadata": {},
   "outputs": [],
   "source": [
    "norm_image = []\n",
    "for row in result:\n",
    "    norm_row = []\n",
    "    for _px in row:\n",
    "        norm_row.append(float(round(_px)))\n",
    "    norm_image.append(norm_row)\n",
    "# norm_image2 = []\n",
    "# for row in attacked:\n",
    "#     norm_row = []\n",
    "#     for _px in row:\n",
    "#         norm_row.append(float(round(_px)))\n",
    "#     norm_image2.append(norm_row)\n",
    "# norm_image3 = []\n",
    "# for row in attacked2:\n",
    "#     norm_row = []\n",
    "#     for _px in row:\n",
    "#         norm_row.append(float(round(_px)))\n",
    "#     norm_image3.append(norm_row)"
   ]
  },
  {
   "cell_type": "code",
   "execution_count": 14,
   "metadata": {},
   "outputs": [
    {
     "name": "stdout",
     "output_type": "stream",
     "text": [
      "initializing\n",
      "enc   0  ->  64\n",
      "dec   0  ->  64\n",
      " (1, 1, 64, 64)\n"
     ]
    }
   ],
   "source": [
    "f = forward.Forward(\n",
    "    False,\n",
    "    [\n",
    "        [norm_image]\n",
    "    ], # double array as batch and channel\n",
    "    cnn.CNN.init_params()\n",
    ")"
   ]
  },
  {
   "cell_type": "code",
   "execution_count": 15,
   "metadata": {
    "scrolled": true
   },
   "outputs": [
    {
     "name": "stdout",
     "output_type": "stream",
     "text": [
      "encoder\n",
      "shape:  (1, 1, 64, 64)\n",
      "STACK: 0\n",
      "ReLU and max pool\n",
      "decoder\n",
      "shape:  (1, 8, 32, 32)\n",
      "STACK: 0\n",
      "ups and conv\n",
      "decoded:  (1, 1, 64, 64)\n"
     ]
    }
   ],
   "source": [
    "result = f.run()"
   ]
  },
  {
   "cell_type": "code",
   "execution_count": 16,
   "metadata": {},
   "outputs": [
    {
     "data": {
      "text/plain": [
       "(64, 64)"
      ]
     },
     "execution_count": 16,
     "metadata": {},
     "output_type": "execute_result"
    }
   ],
   "source": [
    "array(result).shape"
   ]
  },
  {
   "cell_type": "code",
   "execution_count": 17,
   "metadata": {},
   "outputs": [
    {
     "data": {
      "text/plain": [
       "<matplotlib.image.AxesImage at 0x296f33fddf0>"
      ]
     },
     "execution_count": 17,
     "metadata": {},
     "output_type": "execute_result"
    },
    {
     "data": {
      "image/png": "[encoded data removed]",
      "text/plain": [
       "<Figure size 432x288 with 1 Axes>"
      ]
     },
     "metadata": {
      "needs_background": "light"
     },
     "output_type": "display_data"
    }
   ],
   "source": [
    "plt.imshow(result)"
   ]
  },
  {
   "cell_type": "code",
   "execution_count": 18,
   "metadata": {},
   "outputs": [],
   "source": [
    "conved_images = []\n",
    "for batch, image in enumerate([[norm_image]]):\n",
    "    conved_images.append(\n",
    "        f.conv_per_stack(\n",
    "            image, f.ENCODER, 0, batch\n",
    "        )\n",
    "    )"
   ]
  },
  {
   "cell_type": "code",
   "execution_count": 19,
   "metadata": {
    "scrolled": true
   },
   "outputs": [
    {
     "data": {
      "image/png": "[encoded data removed]",
      "text/plain": [
       "<Figure size 3600x3600 with 8 Axes>"
      ]
     },
     "metadata": {
      "needs_background": "light"
     },
     "output_type": "display_data"
    }
   ],
   "source": [
    "fig = plt.figure(figsize=(50, 50))\n",
    "for i in range(len(conved_images[0])):\n",
    "    sub = fig.add_subplot(2, 16, i + 1)\n",
    "    sub.imshow(conved_images[0][i], interpolation='nearest')"
   ]
  },
  {
   "cell_type": "code",
   "execution_count": 20,
   "metadata": {},
   "outputs": [],
   "source": [
    "conved_images = array(conved_images)"
   ]
  },
  {
   "cell_type": "code",
   "execution_count": 21,
   "metadata": {},
   "outputs": [
    {
     "data": {
      "text/plain": [
       "array([[[[-8.74092352e+01, -9.27941669e+01, -8.55886178e+01, ...,\n",
       "          -3.55830203e+01, -1.96478713e+01, -4.81552092e+01],\n",
       "         [-1.00865960e+02, -1.06717455e+02, -9.17395242e+01, ...,\n",
       "          -5.31755376e+01, -4.93424806e+01, -1.11531020e+02],\n",
       "         [-1.07883332e+02, -1.11450932e+02, -9.21837646e+01, ...,\n",
       "           7.51556430e+01,  8.95433409e+01, -9.76533278e+00],\n",
       "         ...,\n",
       "         [-9.40433327e+01, -9.57637436e+01, -7.73692379e+01, ...,\n",
       "           5.45937262e+01,  6.77878956e+01,  1.42846678e+01],\n",
       "         [-4.25353965e+01, -3.14882968e+01, -3.21016867e+00, ...,\n",
       "           5.77270650e+01,  5.54299636e+01,  1.69894011e+01],\n",
       "         [-2.07287219e+01, -2.05603675e+01, -1.27827201e+01, ...,\n",
       "           5.34925684e+01,  6.00258839e+01,  3.81567699e+01]],\n",
       "\n",
       "        [[-1.75962071e+02, -2.26449772e+02, -2.75955516e+02, ...,\n",
       "          -1.28158057e+03, -1.02910975e+03, -7.86932708e+02],\n",
       "         [-2.39008492e+02, -3.33681535e+02, -4.17282520e+02, ...,\n",
       "          -2.53960924e+03, -2.24389605e+03, -1.68986137e+03],\n",
       "         [-3.21455028e+02, -4.43184619e+02, -5.34809352e+02, ...,\n",
       "          -2.35971277e+03, -2.20605860e+03, -1.57900048e+03],\n",
       "         ...,\n",
       "         [-4.32184576e+02, -7.57921953e+02, -8.70836860e+02, ...,\n",
       "          -9.31827046e+02, -8.68260574e+02, -4.90283041e+02],\n",
       "         [-3.49228642e+02, -6.49322129e+02, -7.37512228e+02, ...,\n",
       "          -7.40675464e+02, -7.27995660e+02, -3.96262615e+02],\n",
       "         [-2.31249427e+02, -4.18791526e+02, -4.80225524e+02, ...,\n",
       "          -4.51053118e+02, -4.78707507e+02, -2.38133352e+02]],\n",
       "\n",
       "        [[-7.53420636e+01, -9.63132895e+01, -1.24631554e+02, ...,\n",
       "          -1.57177396e+03, -1.48510445e+03, -1.76713938e+03],\n",
       "         [-1.99622442e+02, -2.84196490e+02, -3.83394118e+02, ...,\n",
       "          -3.89302147e+03, -3.27921422e+03, -3.22330363e+03],\n",
       "         [-2.27798965e+02, -2.99575798e+02, -3.94008750e+02, ...,\n",
       "          -3.58609726e+03, -3.16589738e+03, -3.18737151e+03],\n",
       "         ...,\n",
       "         [-5.07276063e+02, -7.25462288e+02, -8.12893425e+02, ...,\n",
       "          -1.55715588e+03, -1.35808081e+03, -1.11736301e+03],\n",
       "         [-3.10697954e+02, -4.90816999e+02, -6.33196482e+02, ...,\n",
       "          -1.21689503e+03, -1.09410519e+03, -8.80306952e+02],\n",
       "         [-2.26744476e+02, -2.93662974e+02, -3.56418805e+02, ...,\n",
       "          -7.99542561e+02, -7.20914338e+02, -5.54777988e+02]],\n",
       "\n",
       "        ...,\n",
       "\n",
       "        [[-2.67351229e+02, -4.21750581e+02, -5.86538606e+02, ...,\n",
       "          -3.09540863e+03, -2.89477690e+03, -3.02935139e+03],\n",
       "         [-4.71300483e+02, -6.93247200e+02, -9.07562839e+02, ...,\n",
       "          -5.02601510e+03, -3.95784123e+03, -3.96710146e+03],\n",
       "         [-3.39149712e+02, -5.33054199e+02, -8.39414945e+02, ...,\n",
       "          -5.56042104e+03, -5.03195411e+03, -5.23753056e+03],\n",
       "         ...,\n",
       "         [-1.04279247e+03, -1.45500314e+03, -2.00449991e+03, ...,\n",
       "          -2.83727433e+03, -2.24665273e+03, -2.06161876e+03],\n",
       "         [-7.00951455e+02, -9.17355106e+02, -1.50727751e+03, ...,\n",
       "          -2.37680486e+03, -1.90837510e+03, -1.80238667e+03],\n",
       "         [-7.75839058e+02, -8.58009548e+02, -1.42100734e+03, ...,\n",
       "          -2.02414810e+03, -1.50663470e+03, -1.40802864e+03]],\n",
       "\n",
       "        [[-4.28189161e+02, -6.61864483e+02, -8.58769413e+02, ...,\n",
       "          -3.37329508e+03, -3.21640992e+03, -3.19698006e+03],\n",
       "         [-7.10447586e+02, -9.91492516e+02, -1.21608576e+03, ...,\n",
       "          -4.95593367e+03, -3.77814431e+03, -3.72878261e+03],\n",
       "         [-6.10798343e+02, -8.73340734e+02, -1.19642802e+03, ...,\n",
       "          -6.10620038e+03, -5.26592702e+03, -5.49119069e+03],\n",
       "         ...,\n",
       "         [-1.65642883e+03, -2.14511896e+03, -2.70646000e+03, ...,\n",
       "          -3.17999369e+03, -2.30525408e+03, -2.06090866e+03],\n",
       "         [-1.22209780e+03, -1.46286497e+03, -2.08293627e+03, ...,\n",
       "          -2.67961603e+03, -2.01479415e+03, -1.83721095e+03],\n",
       "         [-1.20954911e+03, -1.36265923e+03, -1.92672991e+03, ...,\n",
       "          -2.38050696e+03, -1.72335715e+03, -1.45884342e+03]],\n",
       "\n",
       "        [[-4.14996743e+02, -6.75101432e+02, -8.49390565e+02, ...,\n",
       "          -3.20030511e+03, -3.08738709e+03, -3.04792808e+03],\n",
       "         [-7.12039488e+02, -1.00909623e+03, -1.19402411e+03, ...,\n",
       "          -4.73132452e+03, -3.47129030e+03, -3.48962718e+03],\n",
       "         [-6.22947098e+02, -9.04527450e+02, -1.21842705e+03, ...,\n",
       "          -6.27978238e+03, -5.16248922e+03, -5.62001389e+03],\n",
       "         ...,\n",
       "         [-1.64004272e+03, -2.15186295e+03, -2.78678626e+03, ...,\n",
       "          -3.17823167e+03, -2.24432735e+03, -2.17581908e+03],\n",
       "         [-1.23841825e+03, -1.47470898e+03, -2.22281084e+03, ...,\n",
       "          -2.69469594e+03, -1.93709348e+03, -2.00384175e+03],\n",
       "         [-1.23446440e+03, -1.37490954e+03, -2.02895131e+03, ...,\n",
       "          -2.37086412e+03, -1.64137502e+03, -1.53783653e+03]]]])"
      ]
     },
     "execution_count": 21,
     "metadata": {},
     "output_type": "execute_result"
    }
   ],
   "source": [
    "conved_images"
   ]
  },
  {
   "cell_type": "code",
   "execution_count": 22,
   "metadata": {},
   "outputs": [],
   "source": [
    "processed_conv = []\n",
    "for batch, image in enumerate(conved_images):\n",
    "    image = f.relu_per_stack(image, batch)\n",
    "#     image = f.max_pooling_per_stack(image, batch)\n",
    "    processed_conv.append(image)"
   ]
  },
  {
   "cell_type": "code",
   "execution_count": 23,
   "metadata": {},
   "outputs": [],
   "source": [
    "processed_conv = array(processed_conv)"
   ]
  },
  {
   "cell_type": "code",
   "execution_count": 24,
   "metadata": {},
   "outputs": [
    {
     "data": {
      "text/plain": [
       "(1, 8, 64, 64)"
      ]
     },
     "execution_count": 24,
     "metadata": {},
     "output_type": "execute_result"
    }
   ],
   "source": [
    "processed_conv.shape"
   ]
  },
  {
   "cell_type": "code",
   "execution_count": 26,
   "metadata": {},
   "outputs": [
    {
     "data": {
      "text/plain": [
       "array([[[[ 0.        ,  0.        ,  0.        , ...,  0.        ,\n",
       "           0.        ,  0.        ],\n",
       "         [ 0.        ,  0.        ,  0.        , ...,  0.        ,\n",
       "           0.        ,  0.        ],\n",
       "         [ 0.        ,  0.        ,  0.        , ..., 75.15564299,\n",
       "          89.54334087,  0.        ],\n",
       "         ...,\n",
       "         [ 0.        ,  0.        ,  0.        , ..., 54.59372622,\n",
       "          67.78789559, 14.28466784],\n",
       "         [ 0.        ,  0.        ,  0.        , ..., 57.72706505,\n",
       "          55.42996359, 16.98940106],\n",
       "         [ 0.        ,  0.        ,  0.        , ..., 53.49256844,\n",
       "          60.02588389, 38.15676991]],\n",
       "\n",
       "        [[ 0.        ,  0.        ,  0.        , ...,  0.        ,\n",
       "           0.        ,  0.        ],\n",
       "         [ 0.        ,  0.        ,  0.        , ...,  0.        ,\n",
       "           0.        ,  0.        ],\n",
       "         [ 0.        ,  0.        ,  0.        , ...,  0.        ,\n",
       "           0.        ,  0.        ],\n",
       "         ...,\n",
       "         [ 0.        ,  0.        ,  0.        , ...,  0.        ,\n",
       "           0.        ,  0.        ],\n",
       "         [ 0.        ,  0.        ,  0.        , ...,  0.        ,\n",
       "           0.        ,  0.        ],\n",
       "         [ 0.        ,  0.        ,  0.        , ...,  0.        ,\n",
       "           0.        ,  0.        ]],\n",
       "\n",
       "        [[ 0.        ,  0.        ,  0.        , ...,  0.        ,\n",
       "           0.        ,  0.        ],\n",
       "         [ 0.        ,  0.        ,  0.        , ...,  0.        ,\n",
       "           0.        ,  0.        ],\n",
       "         [ 0.        ,  0.        ,  0.        , ...,  0.        ,\n",
       "           0.        ,  0.        ],\n",
       "         ...,\n",
       "         [ 0.        ,  0.        ,  0.        , ...,  0.        ,\n",
       "           0.        ,  0.        ],\n",
       "         [ 0.        ,  0.        ,  0.        , ...,  0.        ,\n",
       "           0.        ,  0.        ],\n",
       "         [ 0.        ,  0.        ,  0.        , ...,  0.        ,\n",
       "           0.        ,  0.        ]],\n",
       "\n",
       "        ...,\n",
       "\n",
       "        [[ 0.        ,  0.        ,  0.        , ...,  0.        ,\n",
       "           0.        ,  0.        ],\n",
       "         [ 0.        ,  0.        ,  0.        , ...,  0.        ,\n",
       "           0.        ,  0.        ],\n",
       "         [ 0.        ,  0.        ,  0.        , ...,  0.        ,\n",
       "           0.        ,  0.        ],\n",
       "         ...,\n",
       "         [ 0.        ,  0.        ,  0.        , ...,  0.        ,\n",
       "           0.        ,  0.        ],\n",
       "         [ 0.        ,  0.        ,  0.        , ...,  0.        ,\n",
       "           0.        ,  0.        ],\n",
       "         [ 0.        ,  0.        ,  0.        , ...,  0.        ,\n",
       "           0.        ,  0.        ]],\n",
       "\n",
       "        [[ 0.        ,  0.        ,  0.        , ...,  0.        ,\n",
       "           0.        ,  0.        ],\n",
       "         [ 0.        ,  0.        ,  0.        , ...,  0.        ,\n",
       "           0.        ,  0.        ],\n",
       "         [ 0.        ,  0.        ,  0.        , ...,  0.        ,\n",
       "           0.        ,  0.        ],\n",
       "         ...,\n",
       "         [ 0.        ,  0.        ,  0.        , ...,  0.        ,\n",
       "           0.        ,  0.        ],\n",
       "         [ 0.        ,  0.        ,  0.        , ...,  0.        ,\n",
       "           0.        ,  0.        ],\n",
       "         [ 0.        ,  0.        ,  0.        , ...,  0.        ,\n",
       "           0.        ,  0.        ]],\n",
       "\n",
       "        [[ 0.        ,  0.        ,  0.        , ...,  0.        ,\n",
       "           0.        ,  0.        ],\n",
       "         [ 0.        ,  0.        ,  0.        , ...,  0.        ,\n",
       "           0.        ,  0.        ],\n",
       "         [ 0.        ,  0.        ,  0.        , ...,  0.        ,\n",
       "           0.        ,  0.        ],\n",
       "         ...,\n",
       "         [ 0.        ,  0.        ,  0.        , ...,  0.        ,\n",
       "           0.        ,  0.        ],\n",
       "         [ 0.        ,  0.        ,  0.        , ...,  0.        ,\n",
       "           0.        ,  0.        ],\n",
       "         [ 0.        ,  0.        ,  0.        , ...,  0.        ,\n",
       "           0.        ,  0.        ]]]])"
      ]
     },
     "execution_count": 26,
     "metadata": {},
     "output_type": "execute_result"
    }
   ],
   "source": [
    "processed_conv"
   ]
  },
  {
   "cell_type": "code",
   "execution_count": 25,
   "metadata": {},
   "outputs": [
    {
     "data": {
      "image/png": "[encoded data removed]",
      "text/plain": [
       "<Figure size 3600x3600 with 8 Axes>"
      ]
     },
     "metadata": {
      "needs_background": "light"
     },
     "output_type": "display_data"
    }
   ],
   "source": [
    "fig = plt.figure(figsize=(50, 50))\n",
    "for i in range(len(processed_conv[0])):\n",
    "    sub = fig.add_subplot(2, 16, i + 1)\n",
    "    sub.imshow(processed_conv[0][i], interpolation='nearest')"
   ]
  },
  {
   "cell_type": "code",
   "execution_count": null,
   "metadata": {},
   "outputs": [],
   "source": [
    "processed = []\n",
    "for batch, image in enumerate(processed_conv):\n",
    "    image = f.upsample_per_stack(\n",
    "        image, batch, 0\n",
    "    )\n",
    "    processed.append(image)"
   ]
  },
  {
   "cell_type": "code",
   "execution_count": null,
   "metadata": {
    "scrolled": true
   },
   "outputs": [],
   "source": [
    "fig = plt.figure(figsize=(50, 50))\n",
    "for i in range(len(processed[0])):\n",
    "    sub = fig.add_subplot(2, 16, i + 1)\n",
    "    sub.imshow(processed[0][i], interpolation='nearest')"
   ]
  },
  {
   "cell_type": "code",
   "execution_count": null,
   "metadata": {},
   "outputs": [],
   "source": [
    "decoded = []\n",
    "for batch, image in enumerate(processed):\n",
    "    image = f.conv_per_stack(\n",
    "        image, f.DECODER, 0, batch\n",
    "    )\n",
    "    decoded.append(image)"
   ]
  },
  {
   "cell_type": "code",
   "execution_count": null,
   "metadata": {},
   "outputs": [],
   "source": [
    "plt.imshow(decoded[0][0])"
   ]
  },
  {
   "cell_type": "code",
   "execution_count": null,
   "metadata": {
    "scrolled": true
   },
   "outputs": [],
   "source": [
    "sm = f.softmax_per_batch(decoded)"
   ]
  },
  {
   "cell_type": "code",
   "execution_count": null,
   "metadata": {},
   "outputs": [],
   "source": [
    "plt.imshow(sm)"
   ]
  },
  {
   "cell_type": "markdown",
   "metadata": {},
   "source": [
    "# Checking Convolution"
   ]
  },
  {
   "cell_type": "code",
   "execution_count": null,
   "metadata": {
    "scrolled": true
   },
   "outputs": [],
   "source": [
    "from watermarking import training"
   ]
  },
  {
   "cell_type": "code",
   "execution_count": null,
   "metadata": {
    "scrolled": false
   },
   "outputs": [],
   "source": [
    "%%time\n",
    "train = training.Training()"
   ]
  },
  {
   "cell_type": "code",
   "execution_count": null,
   "metadata": {
    "scrolled": true
   },
   "outputs": [],
   "source": [
    "%%time\n",
    "epoch = 10\n",
    "losses = []\n",
    "accs = []\n",
    "for i in range(0, epoch):\n",
    "    print('EPOCH: ', i)\n",
    "    result, loss, acc, attacked_wm = train.auto_training()\n",
    "    losses.append(loss)\n",
    "    accs.append(acc)"
   ]
  },
  {
   "cell_type": "code",
   "execution_count": null,
   "metadata": {},
   "outputs": [],
   "source": [
    "train.store_params()"
   ]
  },
  {
   "cell_type": "code",
   "execution_count": null,
   "metadata": {},
   "outputs": [],
   "source": [
    "\n",
    "ground_truth = array(ground_truth)\n",
    "max_result = -1\n",
    "chosen_img = None\n",
    "for data in sm:\n",
    "    background, foreground = data\n",
    "    classified = []\n",
    "    for i, row in enumerate(background):\n",
    "        new_row = []\n",
    "        for j, _px in enumerate(row):\n",
    "            new_row.append(\n",
    "                0 if _px > foreground[i][j] else 255\n",
    "            )\n",
    "        classified.append(new_row)\n",
    "    classified = array(classified)\n",
    "    a = ground_truth.ravel()\n",
    "    b = classified.ravel()\n",
    "    \n",
    "    a = (a - np.mean(a)) / (np.std(a) * len(a))\n",
    "    b = (b - np.mean(b)) / (np.std(b))\n",
    "    c = np.correlate(a, b, 'full')\n",
    "    \n",
    "    if c.max() > max_result:\n",
    "        max_result = c.max()\n",
    "        chosen_img = classified\n",
    "    print(c.max())"
   ]
  },
  {
   "cell_type": "code",
   "execution_count": null,
   "metadata": {},
   "outputs": [],
   "source": [
    "plt.imshow(result[0][0])"
   ]
  },
  {
   "cell_type": "code",
   "execution_count": null,
   "metadata": {
    "scrolled": true
   },
   "outputs": [],
   "source": [
    "plt.imshow(cnn.CNN.softmax_classifier(result[0][0], result[0][1]))"
   ]
  },
  {
   "cell_type": "code",
   "execution_count": null,
   "metadata": {
    "scrolled": true
   },
   "outputs": [],
   "source": [
    "plt.imshow(chosen_img)"
   ]
  },
  {
   "cell_type": "code",
   "execution_count": null,
   "metadata": {},
   "outputs": [],
   "source": [
    "print(len(result))\n",
    "print(max_result)"
   ]
  },
  {
   "cell_type": "code",
   "execution_count": null,
   "metadata": {},
   "outputs": [],
   "source": [
    "a = ground_truth.ravel()\n",
    "b = array(sm).ravel()"
   ]
  },
  {
   "cell_type": "code",
   "execution_count": null,
   "metadata": {},
   "outputs": [],
   "source": [
    "a = (a - np.mean(a)) / (np.std(a) * len(a))\n",
    "b = (b - np.mean(b)) / (np.std(b))\n",
    "c = np.correlate(a, b, 'full')"
   ]
  },
  {
   "cell_type": "code",
   "execution_count": null,
   "metadata": {
    "scrolled": true
   },
   "outputs": [],
   "source": [
    "c.max()"
   ]
  },
  {
   "cell_type": "code",
   "execution_count": null,
   "metadata": {},
   "outputs": [],
   "source": [
    "ground_truth"
   ]
  },
  {
   "cell_type": "code",
   "execution_count": null,
   "metadata": {},
   "outputs": [],
   "source": [
    "array(sm)"
   ]
  },
  {
   "cell_type": "markdown",
   "metadata": {},
   "source": [
    "<h3> Create Graph from Result</h3>"
   ]
  },
  {
   "cell_type": "markdown",
   "metadata": {},
   "source": [
    "<h5>Attacks</h5>"
   ]
  },
  {
   "cell_type": "code",
   "execution_count": null,
   "metadata": {},
   "outputs": [],
   "source": [
    "accs = array(accs) # epoch, image, attack"
   ]
  },
  {
   "cell_type": "code",
   "execution_count": null,
   "metadata": {},
   "outputs": [],
   "source": [
    "accs.shape"
   ]
  },
  {
   "cell_type": "markdown",
   "metadata": {},
   "source": [
    "<h4>Check NC of forward only</h4>"
   ]
  },
  {
   "cell_type": "code",
   "execution_count": null,
   "metadata": {},
   "outputs": [],
   "source": [
    "from copy import deepcopy\n",
    "from watermarking import embedding"
   ]
  },
  {
   "cell_type": "code",
   "execution_count": null,
   "metadata": {},
   "outputs": [],
   "source": [
    "print(embedding.Embedding.normalized_correlation_coef(softmax[0], ground_truth))"
   ]
  },
  {
   "cell_type": "markdown",
   "metadata": {},
   "source": [
    "<h4>Try to classify softmax better</h4>"
   ]
  },
  {
   "cell_type": "code",
   "execution_count": null,
   "metadata": {},
   "outputs": [],
   "source": [
    "classified = []\n",
    "for row in softmax[0]:\n",
    "    new_row = []\n",
    "    for pixel in row:\n",
    "        if pixel > 1:\n",
    "            pixel = 1\n",
    "        elif pixel < 0:\n",
    "            pixel = 0\n",
    "        else:\n",
    "            pixel = round(pixel)\n",
    "        new_row.append(pixel)\n",
    "    classified.append(new_row)"
   ]
  },
  {
   "cell_type": "code",
   "execution_count": null,
   "metadata": {},
   "outputs": [],
   "source": [
    "print(embedding.Embedding.normalized_correlation_coef(classified, ground_truth))"
   ]
  }
 ],
 "metadata": {
  "kernelspec": {
   "display_name": "Python 3",
   "language": "python",
   "name": "python3"
  },
  "language_info": {
   "codemirror_mode": {
    "name": "ipython",
    "version": 3
   },
   "file_extension": ".py",
   "mimetype": "text/x-python",
   "name": "python",
   "nbconvert_exporter": "python",
   "pygments_lexer": "ipython3",
   "version": "3.8.2"
  }
 },
 "nbformat": 4,
 "nbformat_minor": 2
}
